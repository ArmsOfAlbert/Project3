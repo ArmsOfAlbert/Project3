{
 "cells": [
  {
   "cell_type": "code",
   "execution_count": 178,
   "id": "7864420e-0f1a-451f-a417-e083a50f083e",
   "metadata": {},
   "outputs": [],
   "source": [
    "from pymongo import MongoClient\n",
    "import pandas as pd\n",
    "from pprint import pprint\n",
    "from flask import Flask, jsonify\n",
    "import os"
   ]
  },
  {
   "cell_type": "code",
   "execution_count": 179,
   "id": "3bc7c6c0-934f-4907-a21d-87892b3f77a7",
   "metadata": {},
   "outputs": [],
   "source": [
    "# Create an instance of MongoClient\n",
    "mongo = MongoClient(port=27017)"
   ]
  },
  {
   "cell_type": "code",
   "execution_count": 180,
   "id": "bcc00311-7586-4c25-a623-308221c3ec59",
   "metadata": {},
   "outputs": [],
   "source": [
    "app = Flask(__name__)\n"
   ]
  },
  {
   "cell_type": "code",
   "execution_count": 181,
   "id": "29a30a58-4f35-4655-9d91-52f1cb30386c",
   "metadata": {},
   "outputs": [],
   "source": [
    "# assign the uk_food database to a variable name\n",
    "db = mongo['openChargeMap']\n"
   ]
  },
  {
   "cell_type": "code",
   "execution_count": 182,
   "id": "41e8911d-d103-40bc-ab26-a94b77e67ce5",
   "metadata": {},
   "outputs": [
    {
     "name": "stdout",
     "output_type": "stream",
     "text": [
      "['EV_Make_Model', 'us_alt_fuel_stations', 'POI_List', 'Alternative_Fueling_Stations']\n"
     ]
    }
   ],
   "source": [
    "# review the collections in our database\n",
    "print(db.list_collection_names())"
   ]
  },
  {
   "cell_type": "code",
   "execution_count": 183,
   "id": "1f9b2124-397c-48a5-8ddc-2f6918c1b304",
   "metadata": {},
   "outputs": [],
   "source": [
    "# assign the collection to a variable\n",
    "EV_Make_Model = db['EV_Make_Model']\n",
    "us_alt_fuel_stations = db['us_alt_fuel_stations']\n",
    "Alternative_Fueling_Stations = db['Alternative_Fueling_Stations']"
   ]
  },
  {
   "cell_type": "code",
   "execution_count": 184,
   "id": "ee65fcfd-dbe4-4b1b-8f5d-2ba65fbb2a02",
   "metadata": {},
   "outputs": [
    {
     "name": "stdout",
     "output_type": "stream",
     "text": [
      "Collection(Database(MongoClient(host=['localhost:27017'], document_class=dict, tz_aware=False, connect=True), 'openChargeMap'), 'EV_Make_Model')\n",
      "Collection(Database(MongoClient(host=['localhost:27017'], document_class=dict, tz_aware=False, connect=True), 'openChargeMap'), 'us_alt_fuel_stations')\n",
      "Collection(Database(MongoClient(host=['localhost:27017'], document_class=dict, tz_aware=False, connect=True), 'openChargeMap'), 'Alternative_Fueling_Stations')\n"
     ]
    }
   ],
   "source": [
    "pprint(EV_Make_Model)\n",
    "pprint(us_alt_fuel_stations)\n",
    "pprint(Alternative_Fueling_Stations)"
   ]
  },
  {
   "cell_type": "code",
   "execution_count": 185,
   "id": "c5834984-f1a2-4f38-83be-4aaf4b0637c1",
   "metadata": {},
   "outputs": [],
   "source": [
    "def clean_address(address):\n",
    "    # Example: Remove leading/trailing whitespace and capitalize letters\n",
    "    return address.strip().title()\n"
   ]
  },
  {
   "cell_type": "code",
   "execution_count": 186,
   "id": "7ffddc7d-aa2f-4b10-b3e0-495658f92511",
   "metadata": {},
   "outputs": [
    {
     "name": "stdout",
     "output_type": "stream",
     "text": [
      "                                   station_name geocode_status         city  \\\n",
      "0          Spire - Montgomery Operations Center          200-9   Montgomery   \n",
      "1  Metropolitan Atlanta Rapid Transit Authority          200-8      Atlanta   \n",
      "2                         United Parcel Service          200-9      Atlanta   \n",
      "3                    Arkansas Oklahoma Gas Corp          200-9   Fort Smith   \n",
      "4    Clean Energy - Logan International Airport            GPS  East Boston   \n",
      "\n",
      "  state        street_address    zip            groups_with_access_code  \\\n",
      "0    AL      2951 Chestnut St  36107                            Private   \n",
      "1    GA   2424 Piedmont Rd NE  30324          Private - Government only   \n",
      "2    GA  270 Marvin Miller Dr  30336                            Private   \n",
      "3    AR     2100 S Waldron Rd  72903  Public - Credit card at all times   \n",
      "4    MA   1000 Cottage St Ext  02128  Public - Credit card at all times   \n",
      "\n",
      "           longitude   latitude  \n",
      "0         -86.267021  32.367916  \n",
      "1         -84.367461  33.821911  \n",
      "2         -84.543822  33.760256  \n",
      "3         -94.375338  35.362213  \n",
      "4  -71.0265486057434  42.374706  \n"
     ]
    }
   ],
   "source": [
    "# Clean Alternative_Fueling_Stations Collection\n",
    "cleaned_alt_fueling_stations = []\n",
    "for doc in db['Alternative_Fueling_Stations'].find():\n",
    "    cleaned_doc = {\n",
    "        'station_name': doc.get('station_name', ''),\n",
    "        'geocode_status': doc.get('geocode_status', ''),\n",
    "        'city': doc.get('city', ''),\n",
    "        'state': doc.get('state', ''),\n",
    "        'street_address': doc.get('street_address', ''),\n",
    "        'zip': doc.get('zip', ''),\n",
    "        'groups_with_access_code': doc.get('groups_with_access_code', ''),\n",
    "        'longitude': doc.get('longitude', ''),\n",
    "        'latitude': doc.get('latitude', '')\n",
    "    }\n",
    "    cleaned_alt_fueling_stations.append(cleaned_doc)\n",
    "\n",
    "# Create DataFrame from cleaned data\n",
    "df_alt_fueling_stations = pd.DataFrame(cleaned_alt_fueling_stations)\n",
    "\n",
    "# Display the DataFrame\n",
    "print(df_alt_fueling_stations.head())\n"
   ]
  },
  {
   "cell_type": "code",
   "execution_count": 187,
   "id": "1aaea1c5-f4ac-4334-be45-6e5faee8786b",
   "metadata": {},
   "outputs": [
    {
     "name": "stdout",
     "output_type": "stream",
     "text": [
      "                                          Title Geocode Status         City  \\\n",
      "0          Spire - Montgomery Operations Center          200-9   Montgomery   \n",
      "1  Metropolitan Atlanta Rapid Transit Authority          200-8      Atlanta   \n",
      "2                         United Parcel Service          200-9      Atlanta   \n",
      "3                    Arkansas Oklahoma Gas Corp          200-9   Fort Smith   \n",
      "4    Clean Energy - Logan International Airport            GPS  East Boston   \n",
      "\n",
      "  State               Address ZIP Code                        Access Code  \\\n",
      "0    AL      2951 Chestnut St    36107                            Private   \n",
      "1    GA   2424 Piedmont Rd NE    30324          Private - Government only   \n",
      "2    GA  270 Marvin Miller Dr    30336                            Private   \n",
      "3    AR     2100 S Waldron Rd    72903  Public - Credit card at all times   \n",
      "4    MA   1000 Cottage St Ext    02128  Public - Credit card at all times   \n",
      "\n",
      "           Longitude   Latitude  \n",
      "0         -86.267021  32.367916  \n",
      "1         -84.367461  33.821911  \n",
      "2         -84.543822  33.760256  \n",
      "3         -94.375338  35.362213  \n",
      "4  -71.0265486057434  42.374706  \n"
     ]
    }
   ],
   "source": [
    "# Define more descriptive column names\n",
    "descriptive_column_names = {\n",
    "    'access_code': 'Access Code',\n",
    "    'station_name': 'Title',\n",
    "    'geocode_status': 'Geocode Status',\n",
    "    'city': 'City',\n",
    "    'state': 'State',\n",
    "    'street_address': 'Address',\n",
    "    'zip': 'ZIP Code',\n",
    "    'groups_with_access_code': 'Access Code',\n",
    "    'longitude': 'Longitude',\n",
    "    'latitude': 'Latitude'\n",
    "}\n",
    "\n",
    "# Rename columns in df_alt_fueling_stations DataFrame\n",
    "df_alt_fueling_stations.rename(columns=descriptive_column_names, inplace=True)\n",
    "\n",
    "# Display the DataFrame with more descriptive column names\n",
    "print(df_alt_fueling_stations.head())\n",
    "\n"
   ]
  },
  {
   "cell_type": "code",
   "execution_count": 188,
   "id": "ef4b8f43-0b3e-406d-a356-83d07f34ebd6",
   "metadata": {},
   "outputs": [
    {
     "data": {
      "text/html": [
       "<div>\n",
       "<style scoped>\n",
       "    .dataframe tbody tr th:only-of-type {\n",
       "        vertical-align: middle;\n",
       "    }\n",
       "\n",
       "    .dataframe tbody tr th {\n",
       "        vertical-align: top;\n",
       "    }\n",
       "\n",
       "    .dataframe thead th {\n",
       "        text-align: right;\n",
       "    }\n",
       "</style>\n",
       "<table border=\"1\" class=\"dataframe\">\n",
       "  <thead>\n",
       "    <tr style=\"text-align: right;\">\n",
       "      <th></th>\n",
       "      <th>Title</th>\n",
       "      <th>Geocode Status</th>\n",
       "      <th>City</th>\n",
       "      <th>State</th>\n",
       "      <th>Address</th>\n",
       "      <th>ZIP Code</th>\n",
       "      <th>Access Code</th>\n",
       "      <th>Longitude</th>\n",
       "      <th>Latitude</th>\n",
       "    </tr>\n",
       "  </thead>\n",
       "  <tbody>\n",
       "    <tr>\n",
       "      <th>0</th>\n",
       "      <td>Spire - Montgomery Operations Center</td>\n",
       "      <td>200-9</td>\n",
       "      <td>Montgomery</td>\n",
       "      <td>AL</td>\n",
       "      <td>2951 Chestnut St</td>\n",
       "      <td>36107</td>\n",
       "      <td>Private</td>\n",
       "      <td>-86.267021</td>\n",
       "      <td>32.367916</td>\n",
       "    </tr>\n",
       "    <tr>\n",
       "      <th>1</th>\n",
       "      <td>Metropolitan Atlanta Rapid Transit Authority</td>\n",
       "      <td>200-8</td>\n",
       "      <td>Atlanta</td>\n",
       "      <td>GA</td>\n",
       "      <td>2424 Piedmont Rd NE</td>\n",
       "      <td>30324</td>\n",
       "      <td>Private - Government only</td>\n",
       "      <td>-84.367461</td>\n",
       "      <td>33.821911</td>\n",
       "    </tr>\n",
       "    <tr>\n",
       "      <th>2</th>\n",
       "      <td>United Parcel Service</td>\n",
       "      <td>200-9</td>\n",
       "      <td>Atlanta</td>\n",
       "      <td>GA</td>\n",
       "      <td>270 Marvin Miller Dr</td>\n",
       "      <td>30336</td>\n",
       "      <td>Private</td>\n",
       "      <td>-84.543822</td>\n",
       "      <td>33.760256</td>\n",
       "    </tr>\n",
       "    <tr>\n",
       "      <th>3</th>\n",
       "      <td>Arkansas Oklahoma Gas Corp</td>\n",
       "      <td>200-9</td>\n",
       "      <td>Fort Smith</td>\n",
       "      <td>AR</td>\n",
       "      <td>2100 S Waldron Rd</td>\n",
       "      <td>72903</td>\n",
       "      <td>Public - Credit card at all times</td>\n",
       "      <td>-94.375338</td>\n",
       "      <td>35.362213</td>\n",
       "    </tr>\n",
       "    <tr>\n",
       "      <th>4</th>\n",
       "      <td>Clean Energy - Logan International Airport</td>\n",
       "      <td>GPS</td>\n",
       "      <td>East Boston</td>\n",
       "      <td>MA</td>\n",
       "      <td>1000 Cottage St Ext</td>\n",
       "      <td>02128</td>\n",
       "      <td>Public - Credit card at all times</td>\n",
       "      <td>-71.0265486057434</td>\n",
       "      <td>42.374706</td>\n",
       "    </tr>\n",
       "  </tbody>\n",
       "</table>\n",
       "</div>"
      ],
      "text/plain": [
       "                                          Title Geocode Status         City  \\\n",
       "0          Spire - Montgomery Operations Center          200-9   Montgomery   \n",
       "1  Metropolitan Atlanta Rapid Transit Authority          200-8      Atlanta   \n",
       "2                         United Parcel Service          200-9      Atlanta   \n",
       "3                    Arkansas Oklahoma Gas Corp          200-9   Fort Smith   \n",
       "4    Clean Energy - Logan International Airport            GPS  East Boston   \n",
       "\n",
       "  State               Address ZIP Code                        Access Code  \\\n",
       "0    AL      2951 Chestnut St    36107                            Private   \n",
       "1    GA   2424 Piedmont Rd NE    30324          Private - Government only   \n",
       "2    GA  270 Marvin Miller Dr    30336                            Private   \n",
       "3    AR     2100 S Waldron Rd    72903  Public - Credit card at all times   \n",
       "4    MA   1000 Cottage St Ext    02128  Public - Credit card at all times   \n",
       "\n",
       "           Longitude   Latitude  \n",
       "0         -86.267021  32.367916  \n",
       "1         -84.367461  33.821911  \n",
       "2         -84.543822  33.760256  \n",
       "3         -94.375338  35.362213  \n",
       "4  -71.0265486057434  42.374706  "
      ]
     },
     "execution_count": 188,
     "metadata": {},
     "output_type": "execute_result"
    }
   ],
   "source": [
    "df_alt_fueling_stations.head()"
   ]
  },
  {
   "cell_type": "code",
   "execution_count": 189,
   "id": "552f87f2-1b2c-495f-b0cd-c69d7b8b9913",
   "metadata": {},
   "outputs": [
    {
     "name": "stdout",
     "output_type": "stream",
     "text": [
      "  Fuel Type Code                    Station Name               Street Address  \\\n",
      "0           ELEC   Los Angeles Convention Center           1201 S Figueroa St   \n",
      "1           ELEC  California Air Resources Board             9530 Telstar Ave   \n",
      "2           ELEC          Scripps Green Hospital      10666 N Torrey Pines Rd   \n",
      "3           ELEC      San Diego Wild Animal Park  15500 San Pasqual Valley Rd   \n",
      "4           ELEC                   Galpin Motors            15421 Roscoe Blvd   \n",
      "\n",
      "          City State    ZIP Country Station Phone Status Code  \\\n",
      "0  Los Angeles    CA  90015      US  213-741-1151           E   \n",
      "1     El Monte    CA  91731      US  626-575-6800           E   \n",
      "2     La Jolla    CA  92037      US  858-554-9100           E   \n",
      "3    Escondido    CA  92027      US  760-747-8702           E   \n",
      "4    Sepulveda    CA  91343      US  800-256-6219           E   \n",
      "\n",
      "  GroupsWith Access Code EV Level2 EVSE Num     EV Network GeoCode Status  \\\n",
      "0                                        12  Non-Networked            GPS   \n",
      "1                                         3  Non-Networked            GPS   \n",
      "2                                         1  Non-Networked            GPS   \n",
      "3                                         2  Non-Networked          200-9   \n",
      "4                                         2  Non-Networked          200-9   \n",
      "\n",
      "    Latitude   Longitude Access Code   Facility Type   EV Pricing  \\\n",
      "0  34.040539 -118.271387      public  PARKING_GARAGE                \n",
      "1  34.068720 -118.064000      public       STATE_GOV         Free   \n",
      "2  32.899470 -117.243000      public        HOSPITAL  Pay to Park   \n",
      "3  33.098589 -117.004433      public         PAY_LOT         Free   \n",
      "4  34.221665 -118.468371      public      CAR_DEALER         Free   \n",
      "\n",
      "  EV Connector Types  \n",
      "0              J1772  \n",
      "1              J1772  \n",
      "2              J1772  \n",
      "3              J1772  \n",
      "4              J1772  \n"
     ]
    }
   ],
   "source": [
    "# Clean us_alt_fuel_stations Collection\n",
    "cleaned_us_alt_fuel_stations = []\n",
    "for doc in db['us_alt_fuel_stations'].find():\n",
    "    cleaned_doc = {\n",
    "        'Fuel Type Code': doc.get('Fuel Type Code', ''),\n",
    "        'Station Name': doc.get('Station Name', ''),\n",
    "        'Street Address': doc.get('Street Address', ''),\n",
    "        'City': doc.get('City', ''),\n",
    "        'State': doc.get('State', ''),\n",
    "        'ZIP': doc.get('ZIP', ''),\n",
    "        'Country': doc.get('Country', ''),\n",
    "        'Station Phone': doc.get('Station Phone', ''),\n",
    "        'Status Code': doc.get('Status Code', ''),\n",
    "        'GroupsWith Access Code': doc.get('GroupsWith Access Code', ''),\n",
    "        'EV Level2 EVSE Num': doc.get('EV Level2 EVSE Num', ''),\n",
    "        'EV Network': doc.get('EV Network', ''),\n",
    "        'GeoCode Status': doc.get('Geocode Status', ''),\n",
    "        'Latitude': doc.get('Latitude', ''),\n",
    "        'Longitude': doc.get('Longitude', ''),\n",
    "        'Access Code': doc.get('Access Code', ''),\n",
    "        'Facility Type': doc.get('Facility Type', ''),\n",
    "        'EV Pricing': doc.get('EV Pricing', ''),\n",
    "        'EV Connector Types': doc.get('EV Connector Types', '')\n",
    "    }\n",
    "    cleaned_us_alt_fuel_stations.append(cleaned_doc)\n",
    "\n",
    "# Create DataFrame from cleaned data\n",
    "df_us_alt_fuel_stations = pd.DataFrame(cleaned_us_alt_fuel_stations)\n",
    "\n",
    "# Display the DataFrame\n",
    "print(df_us_alt_fuel_stations.head())\n"
   ]
  },
  {
   "cell_type": "code",
   "execution_count": 190,
   "id": "6279d8a5-506a-4b62-9881-1e800f89b99d",
   "metadata": {},
   "outputs": [],
   "source": [
    "df_us_alt_fuel_stations = df_us_alt_fuel_stations[df_us_alt_fuel_stations['Country'] != 'CA']"
   ]
  },
  {
   "cell_type": "code",
   "execution_count": 191,
   "id": "6549af6b-3579-41c7-aff8-ed5f7e1234ad",
   "metadata": {},
   "outputs": [
    {
     "name": "stdout",
     "output_type": "stream",
     "text": [
      "  Fuel Type                           Title                      Address  \\\n",
      "0      ELEC   Los Angeles Convention Center           1201 S Figueroa St   \n",
      "1      ELEC  California Air Resources Board             9530 Telstar Ave   \n",
      "2      ELEC          Scripps Green Hospital      10666 N Torrey Pines Rd   \n",
      "3      ELEC      San Diego Wild Animal Park  15500 San Pasqual Valley Rd   \n",
      "4      ELEC                   Galpin Motors            15421 Roscoe Blvd   \n",
      "\n",
      "          City State ZIP Code Country  Phone Number StatusType_Title  \\\n",
      "0  Los Angeles    CA    90015      US  213-741-1151                E   \n",
      "1     El Monte    CA    91731      US  626-575-6800                E   \n",
      "2     La Jolla    CA    92037      US  858-554-9100                E   \n",
      "3    Escondido    CA    92027      US  760-747-8702                E   \n",
      "4    Sepulveda    CA    91343      US  800-256-6219                E   \n",
      "\n",
      "  GroupsWith Access Code Charging Levels  OperatorTitle Geocode Status  \\\n",
      "0                                     12  Non-Networked            GPS   \n",
      "1                                      3  Non-Networked            GPS   \n",
      "2                                      1  Non-Networked            GPS   \n",
      "3                                      2  Non-Networked          200-9   \n",
      "4                                      2  Non-Networked          200-9   \n",
      "\n",
      "    Latitude   Longitude Access Code   Facility Type      Pricing  \\\n",
      "0  34.040539 -118.271387      public  PARKING_GARAGE                \n",
      "1  34.068720 -118.064000      public       STATE_GOV         Free   \n",
      "2  32.899470 -117.243000      public        HOSPITAL  Pay to Park   \n",
      "3  33.098589 -117.004433      public         PAY_LOT         Free   \n",
      "4  34.221665 -118.468371      public      CAR_DEALER         Free   \n",
      "\n",
      "  Connector Type  \n",
      "0          J1772  \n",
      "1          J1772  \n",
      "2          J1772  \n",
      "3          J1772  \n",
      "4          J1772  \n"
     ]
    }
   ],
   "source": [
    "# Define column name mapping dictionary\n",
    "column_mapping = {\n",
    "    'Fuel Type Code': 'Fuel Type',\n",
    "    'Station Name': 'Title',\n",
    "    'Street Address': 'Address',\n",
    "    'City': 'City',\n",
    "    'State': 'State',\n",
    "    'ZIP': 'ZIP Code',\n",
    "    'Station Phone': 'Phone Number',  # Assuming Station Phone is the contact phone\n",
    "    'Status Code': 'StatusType_Title',\n",
    "    'EV Level2 EVSE Num': 'Charging Levels',\n",
    "    'EV Network': 'OperatorTitle',\n",
    "    'GeoCode Status': 'Geocode Status',\n",
    "    'Latitude': 'Latitude',\n",
    "    'Longitude': 'Longitude',\n",
    "    'Access Code': 'Access Code',\n",
    "    'Facility Type': 'Facility Type',\n",
    "    'EV Pricing': 'Pricing',\n",
    "    'EV Connector Types': 'Connector Type'\n",
    "}\n",
    "\n",
    "# Rename columns in df_us_alt_fuel_stations DataFrame\n",
    "df_us_alt_fuel_stations.rename(columns=column_mapping, inplace=True)\n",
    "\n",
    "# Display the DataFrame with renamed columns\n",
    "print(df_us_alt_fuel_stations.head())\n"
   ]
  },
  {
   "cell_type": "code",
   "execution_count": 192,
   "id": "b98ea9dc-abeb-4f0e-8be6-51fa523f20c7",
   "metadata": {},
   "outputs": [
    {
     "name": "stdout",
     "output_type": "stream",
     "text": [
      "Longitude    float64\n",
      "Latitude     float64\n",
      "ZIP Code     float64\n",
      "dtype: object\n",
      "\n",
      "df_us_alt_fuel_stations:\n",
      "Longitude    float64\n",
      "Latitude     float64\n",
      "ZIP Code     float64\n",
      "dtype: object\n"
     ]
    }
   ],
   "source": [
    "\n",
    "df_alt_fueling_stations['Longitude'] = pd.to_numeric(df_alt_fueling_stations['Longitude'], errors='coerce')\n",
    "df_alt_fueling_stations['Latitude'] = pd.to_numeric(df_alt_fueling_stations['Latitude'], errors='coerce')\n",
    "\n",
    "df_us_alt_fuel_stations['Longitude'] = pd.to_numeric(df_us_alt_fuel_stations['Longitude'], errors='coerce')\n",
    "df_us_alt_fuel_stations['Latitude'] = pd.to_numeric(df_us_alt_fuel_stations['Latitude'], errors='coerce')\n",
    "\n",
    "# Convert 'ZIP Code' column to integer data type in all DataFrames\n",
    "df_alt_fueling_stations['ZIP Code'] = pd.to_numeric(df_alt_fueling_stations['ZIP Code'], errors='coerce', downcast='integer')\n",
    "df_us_alt_fuel_stations['ZIP Code'] = pd.to_numeric(df_us_alt_fuel_stations['ZIP Code'], errors='coerce', downcast='integer')\n",
    "\n",
    "# Display data types of 'Longitude', 'Latitude', and 'ZIP Code' columns in all DataFrames\n",
    "\n",
    "print(df_alt_fueling_stations[['Longitude', 'Latitude', 'ZIP Code']].dtypes)\n",
    "print(\"\\ndf_us_alt_fuel_stations:\")\n",
    "print(df_us_alt_fuel_stations[['Longitude', 'Latitude', 'ZIP Code']].dtypes)\n",
    "\n"
   ]
  },
  {
   "cell_type": "code",
   "execution_count": 193,
   "id": "fdbe5918-c7a1-49e6-a277-2e0949cb051d",
   "metadata": {},
   "outputs": [],
   "source": [
    "# Convert columns to string type in df_alt_fueling_stations\n",
    "df_alt_fueling_stations = df_alt_fueling_stations.astype({col: 'string' for col in df_alt_fueling_stations.columns if col not in ['Longitude', 'Latitude']})\n",
    "\n",
    "# Convert columns to string type in df_us_alt_fuel_stations\n",
    "df_us_alt_fuel_stations = df_us_alt_fuel_stations.astype({col: 'string' for col in df_us_alt_fuel_stations.columns if col not in ['Longitude', 'Latitude']})\n"
   ]
  },
  {
   "cell_type": "code",
   "execution_count": 194,
   "id": "a6ae8725-8f8f-4c60-9d6e-4833bf907d65",
   "metadata": {},
   "outputs": [
    {
     "name": "stdout",
     "output_type": "stream",
     "text": [
      "Column: Fuel Type, Data Type: string\n",
      "Column: Title, Data Type: string\n",
      "Column: Address, Data Type: string\n",
      "Column: City, Data Type: string\n",
      "Column: State, Data Type: string\n",
      "Column: ZIP Code, Data Type: string\n",
      "Column: Country, Data Type: string\n",
      "Column: Phone Number, Data Type: string\n",
      "Column: StatusType_Title, Data Type: string\n",
      "Column: GroupsWith Access Code, Data Type: string\n",
      "Column: Charging Levels, Data Type: string\n",
      "Column: OperatorTitle, Data Type: string\n",
      "Column: Geocode Status, Data Type: string\n",
      "Column: Latitude, Data Type: float64\n",
      "Column: Longitude, Data Type: float64\n",
      "Column: Access Code, Data Type: string\n",
      "Column: Facility Type, Data Type: string\n",
      "Column: Pricing, Data Type: string\n",
      "Column: Connector Type, Data Type: string\n"
     ]
    }
   ],
   "source": [
    "# Print all column names and their data types in the final_merged_df DataFrame\n",
    "for column, dtype in df_us_alt_fuel_stations.dtypes.items():\n",
    "    print(f\"Column: {column}, Data Type: {dtype}\")"
   ]
  },
  {
   "cell_type": "code",
   "execution_count": 195,
   "id": "d2104280-1eff-493b-a2e4-4cf76c789e98",
   "metadata": {},
   "outputs": [
    {
     "name": "stdout",
     "output_type": "stream",
     "text": [
      "Column: Title, Data Type: string\n",
      "Column: Geocode Status, Data Type: string\n",
      "Column: City, Data Type: string\n",
      "Column: State, Data Type: string\n",
      "Column: Address, Data Type: string\n",
      "Column: ZIP Code, Data Type: string\n",
      "Column: Access Code, Data Type: string\n",
      "Column: Longitude, Data Type: float64\n",
      "Column: Latitude, Data Type: float64\n"
     ]
    }
   ],
   "source": [
    "\n",
    "# Print all column names and their data types in the final_merged_df DataFrame\n",
    "for column, dtype in df_alt_fueling_stations.dtypes.items():\n",
    "    print(f\"Column: {column}, Data Type: {dtype}\")"
   ]
  },
  {
   "cell_type": "code",
   "execution_count": 196,
   "id": "c6e524d4-bf83-421d-801d-ab6da41b92c3",
   "metadata": {},
   "outputs": [
    {
     "name": "stdout",
     "output_type": "stream",
     "text": [
      "                            Title         City State  \\\n",
      "0   Los Angeles Convention Center  Los Angeles    CA   \n",
      "1  California Air Resources Board     El Monte    CA   \n",
      "2          Scripps Green Hospital     La Jolla    CA   \n",
      "3          Scripps Green Hospital     La Jolla    CA   \n",
      "4      San Diego Wild Animal Park    Escondido    CA   \n",
      "\n",
      "                       Address ZIP Code   Longitude   Latitude Country  \\\n",
      "0           1201 S Figueroa St  90015.0 -118.271387  34.040539      US   \n",
      "1             9530 Telstar Ave  91731.0 -118.064000  34.068720      US   \n",
      "2      10666 N Torrey Pines Rd  92037.0 -117.243000  32.899470      US   \n",
      "3      10666 N Torrey Pines Rd  92037.0 -117.243000  32.899470      US   \n",
      "4  15500 San Pasqual Valley Rd  92027.0 -117.004433  33.098589      US   \n",
      "\n",
      "   Phone Number StatusType_Title GroupsWith Access Code Charging Levels  \\\n",
      "0  213-741-1151                E                                     12   \n",
      "1  626-575-6800                E                                      3   \n",
      "2  858-554-9100                E                                      1   \n",
      "3  858-554-9100                E                                      1   \n",
      "4  760-747-8702                E                                      2   \n",
      "\n",
      "   OperatorTitle Access Code_y   Facility Type      Pricing Connector Type  \n",
      "0  Non-Networked        public  PARKING_GARAGE                       J1772  \n",
      "1  Non-Networked        public       STATE_GOV         Free          J1772  \n",
      "2  Non-Networked        public        HOSPITAL  Pay to Park          J1772  \n",
      "3  Non-Networked        public        HOSPITAL  Pay to Park          J1772  \n",
      "4  Non-Networked        public         PAY_LOT         Free          J1772  \n"
     ]
    }
   ],
   "source": [
    "\n",
    "# Convert city names to lowercase and capitalize the first letter of each word\n",
    "df_alt_fueling_stations['City'] = df_alt_fueling_stations['City'].str.lower().str.title()\n",
    "df_us_alt_fuel_stations['City'] = df_us_alt_fuel_stations['City'].str.lower().str.title()\n",
    "\n",
    "#['Access Code'] = df_alt_fueling_stations['Access Code'].str.lower().str.title()\n",
    "#df_us_alt_fuel_stations['Access Code'] = df_us_alt_fuel_stations['Access Code'].str.lower().str.title()\n",
    "\n",
    "# Merge DataFrames based on longitude and latitude\n",
    "final_merged_df = pd.merge(df_alt_fueling_stations, df_us_alt_fuel_stations, on=['Longitude', 'Latitude', 'ZIP Code','City','State','Address','Title'], how='right')\n",
    "\n",
    "final_merged_df.drop(['Geocode Status_x','Geocode Status_y', 'Fuel Type', 'Access Code_x'], axis=1, inplace=True)\n",
    "\n",
    "# Display the merged DataFrame\n",
    "print(final_merged_df.head())\n"
   ]
  },
  {
   "cell_type": "code",
   "execution_count": 197,
   "id": "53e93329-23d8-4d45-9825-5d0d77ea0940",
   "metadata": {},
   "outputs": [
    {
     "data": {
      "text/html": [
       "<div>\n",
       "<style scoped>\n",
       "    .dataframe tbody tr th:only-of-type {\n",
       "        vertical-align: middle;\n",
       "    }\n",
       "\n",
       "    .dataframe tbody tr th {\n",
       "        vertical-align: top;\n",
       "    }\n",
       "\n",
       "    .dataframe thead th {\n",
       "        text-align: right;\n",
       "    }\n",
       "</style>\n",
       "<table border=\"1\" class=\"dataframe\">\n",
       "  <thead>\n",
       "    <tr style=\"text-align: right;\">\n",
       "      <th></th>\n",
       "      <th>Title</th>\n",
       "      <th>City</th>\n",
       "      <th>State</th>\n",
       "      <th>Address</th>\n",
       "      <th>ZIP Code</th>\n",
       "      <th>Longitude</th>\n",
       "      <th>Latitude</th>\n",
       "      <th>Country</th>\n",
       "      <th>Phone Number</th>\n",
       "      <th>StatusType_Title</th>\n",
       "      <th>GroupsWith Access Code</th>\n",
       "      <th>Charging Levels</th>\n",
       "      <th>OperatorTitle</th>\n",
       "      <th>Access Code_y</th>\n",
       "      <th>Facility Type</th>\n",
       "      <th>Pricing</th>\n",
       "      <th>Connector Type</th>\n",
       "    </tr>\n",
       "  </thead>\n",
       "  <tbody>\n",
       "    <tr>\n",
       "      <th>0</th>\n",
       "      <td>Los Angeles Convention Center</td>\n",
       "      <td>Los Angeles</td>\n",
       "      <td>CA</td>\n",
       "      <td>1201 S Figueroa St</td>\n",
       "      <td>90015.0</td>\n",
       "      <td>-118.271387</td>\n",
       "      <td>34.040539</td>\n",
       "      <td>US</td>\n",
       "      <td>213-741-1151</td>\n",
       "      <td>E</td>\n",
       "      <td></td>\n",
       "      <td>12</td>\n",
       "      <td>Non-Networked</td>\n",
       "      <td>public</td>\n",
       "      <td>PARKING_GARAGE</td>\n",
       "      <td></td>\n",
       "      <td>J1772</td>\n",
       "    </tr>\n",
       "    <tr>\n",
       "      <th>1</th>\n",
       "      <td>California Air Resources Board</td>\n",
       "      <td>El Monte</td>\n",
       "      <td>CA</td>\n",
       "      <td>9530 Telstar Ave</td>\n",
       "      <td>91731.0</td>\n",
       "      <td>-118.064000</td>\n",
       "      <td>34.068720</td>\n",
       "      <td>US</td>\n",
       "      <td>626-575-6800</td>\n",
       "      <td>E</td>\n",
       "      <td></td>\n",
       "      <td>3</td>\n",
       "      <td>Non-Networked</td>\n",
       "      <td>public</td>\n",
       "      <td>STATE_GOV</td>\n",
       "      <td>Free</td>\n",
       "      <td>J1772</td>\n",
       "    </tr>\n",
       "    <tr>\n",
       "      <th>2</th>\n",
       "      <td>Scripps Green Hospital</td>\n",
       "      <td>La Jolla</td>\n",
       "      <td>CA</td>\n",
       "      <td>10666 N Torrey Pines Rd</td>\n",
       "      <td>92037.0</td>\n",
       "      <td>-117.243000</td>\n",
       "      <td>32.899470</td>\n",
       "      <td>US</td>\n",
       "      <td>858-554-9100</td>\n",
       "      <td>E</td>\n",
       "      <td></td>\n",
       "      <td>1</td>\n",
       "      <td>Non-Networked</td>\n",
       "      <td>public</td>\n",
       "      <td>HOSPITAL</td>\n",
       "      <td>Pay to Park</td>\n",
       "      <td>J1772</td>\n",
       "    </tr>\n",
       "    <tr>\n",
       "      <th>3</th>\n",
       "      <td>Scripps Green Hospital</td>\n",
       "      <td>La Jolla</td>\n",
       "      <td>CA</td>\n",
       "      <td>10666 N Torrey Pines Rd</td>\n",
       "      <td>92037.0</td>\n",
       "      <td>-117.243000</td>\n",
       "      <td>32.899470</td>\n",
       "      <td>US</td>\n",
       "      <td>858-554-9100</td>\n",
       "      <td>E</td>\n",
       "      <td></td>\n",
       "      <td>1</td>\n",
       "      <td>Non-Networked</td>\n",
       "      <td>public</td>\n",
       "      <td>HOSPITAL</td>\n",
       "      <td>Pay to Park</td>\n",
       "      <td>J1772</td>\n",
       "    </tr>\n",
       "    <tr>\n",
       "      <th>4</th>\n",
       "      <td>San Diego Wild Animal Park</td>\n",
       "      <td>Escondido</td>\n",
       "      <td>CA</td>\n",
       "      <td>15500 San Pasqual Valley Rd</td>\n",
       "      <td>92027.0</td>\n",
       "      <td>-117.004433</td>\n",
       "      <td>33.098589</td>\n",
       "      <td>US</td>\n",
       "      <td>760-747-8702</td>\n",
       "      <td>E</td>\n",
       "      <td></td>\n",
       "      <td>2</td>\n",
       "      <td>Non-Networked</td>\n",
       "      <td>public</td>\n",
       "      <td>PAY_LOT</td>\n",
       "      <td>Free</td>\n",
       "      <td>J1772</td>\n",
       "    </tr>\n",
       "  </tbody>\n",
       "</table>\n",
       "</div>"
      ],
      "text/plain": [
       "                            Title         City State  \\\n",
       "0   Los Angeles Convention Center  Los Angeles    CA   \n",
       "1  California Air Resources Board     El Monte    CA   \n",
       "2          Scripps Green Hospital     La Jolla    CA   \n",
       "3          Scripps Green Hospital     La Jolla    CA   \n",
       "4      San Diego Wild Animal Park    Escondido    CA   \n",
       "\n",
       "                       Address ZIP Code   Longitude   Latitude Country  \\\n",
       "0           1201 S Figueroa St  90015.0 -118.271387  34.040539      US   \n",
       "1             9530 Telstar Ave  91731.0 -118.064000  34.068720      US   \n",
       "2      10666 N Torrey Pines Rd  92037.0 -117.243000  32.899470      US   \n",
       "3      10666 N Torrey Pines Rd  92037.0 -117.243000  32.899470      US   \n",
       "4  15500 San Pasqual Valley Rd  92027.0 -117.004433  33.098589      US   \n",
       "\n",
       "   Phone Number StatusType_Title GroupsWith Access Code Charging Levels  \\\n",
       "0  213-741-1151                E                                     12   \n",
       "1  626-575-6800                E                                      3   \n",
       "2  858-554-9100                E                                      1   \n",
       "3  858-554-9100                E                                      1   \n",
       "4  760-747-8702                E                                      2   \n",
       "\n",
       "   OperatorTitle Access Code_y   Facility Type      Pricing Connector Type  \n",
       "0  Non-Networked        public  PARKING_GARAGE                       J1772  \n",
       "1  Non-Networked        public       STATE_GOV         Free          J1772  \n",
       "2  Non-Networked        public        HOSPITAL  Pay to Park          J1772  \n",
       "3  Non-Networked        public        HOSPITAL  Pay to Park          J1772  \n",
       "4  Non-Networked        public         PAY_LOT         Free          J1772  "
      ]
     },
     "execution_count": 197,
     "metadata": {},
     "output_type": "execute_result"
    }
   ],
   "source": [
    "final_merged_df.head()"
   ]
  },
  {
   "cell_type": "code",
   "execution_count": 198,
   "id": "5470fee9-0c09-4c50-b349-cbb4cdda97fe",
   "metadata": {},
   "outputs": [
    {
     "name": "stdout",
     "output_type": "stream",
     "text": [
      "Column: Title, Data Type: string\n",
      "Column: City, Data Type: string\n",
      "Column: State, Data Type: string\n",
      "Column: Address, Data Type: string\n",
      "Column: ZIP Code, Data Type: string\n",
      "Column: Longitude, Data Type: float64\n",
      "Column: Latitude, Data Type: float64\n",
      "Column: Country, Data Type: string\n",
      "Column: Phone_Number, Data Type: string\n",
      "Column: StatusType_Title, Data Type: string\n",
      "Column: GroupsWith Access Code, Data Type: string\n",
      "Column: Charging Levels, Data Type: string\n",
      "Column: OperatorTitle, Data Type: string\n",
      "Column: Access Code, Data Type: string\n",
      "Column: Facility Type, Data Type: string\n",
      "Column: Pricing, Data Type: string\n",
      "Column: Connector Type, Data Type: string\n"
     ]
    }
   ],
   "source": [
    "final_merged_df.rename(columns={'Access Code_y': 'Access Code', 'Phone Number': 'Phone_Number'}, inplace=True)\n",
    "\n",
    "# Print all column names and their data types in the merged DataFrame\n",
    "for column, dtype in final_merged_df.dtypes.items():\n",
    "    print(f\"Column: {column}, Data Type: {dtype}\")\n"
   ]
  },
  {
   "cell_type": "code",
   "execution_count": 199,
   "id": "39954da2-6efe-4476-8d74-962d113a616a",
   "metadata": {},
   "outputs": [
    {
     "data": {
      "text/plain": [
       "Index(['Title', 'City', 'State', 'Address', 'ZIP Code', 'Longitude',\n",
       "       'Latitude', 'Country', 'Phone_Number', 'StatusType_Title',\n",
       "       'GroupsWith Access Code', 'Charging Levels', 'OperatorTitle',\n",
       "       'Access Code', 'Facility Type', 'Pricing', 'Connector Type'],\n",
       "      dtype='object')"
      ]
     },
     "execution_count": 199,
     "metadata": {},
     "output_type": "execute_result"
    }
   ],
   "source": [
    "final_merged_df.columns"
   ]
  },
  {
   "cell_type": "code",
   "execution_count": 200,
   "id": "390e4195-4119-49fc-8ae4-68628be6df76",
   "metadata": {},
   "outputs": [
    {
     "name": "stdout",
     "output_type": "stream",
     "text": [
      "        Make    Model   Connector Level 1 Level 2 DC Charge Per Distance  \\\n",
      "0     Nissan     Leaf     CHAdeMO       N       N  Y           215 miles   \n",
      "1      Tesla  Model 3       Tesla       N       Y  Y           341 miles   \n",
      "2      Tesla  Model X       Tesla       N       Y  Y           335 miles   \n",
      "3  Chevrolet     Bolt  J1772, CCS       Y       Y  Y           259 miles   \n",
      "4        BMW       i4  J1772, CCS       Y       Y  Y           307 miles   \n",
      "\n",
      "    Car Price  \n",
      "0  $28,140.00  \n",
      "1  $40,630.00  \n",
      "2  $79,990.00  \n",
      "3  $26,500.00  \n",
      "4  $60,200.00  \n"
     ]
    }
   ],
   "source": [
    "# Clean EV_Make_Model Collection\n",
    "cleaned_ev_make_model = []\n",
    "for doc in db['EV_Make_Model'].find():\n",
    "    cleaned_doc = {\n",
    "        'Make': doc.get('Make', ''),\n",
    "        'Model': doc.get('Model', ''),\n",
    "        'Connector': doc.get('Connector', ''),\n",
    "        'Level 1': doc.get('Level 1', ''),\n",
    "        'Level 2': doc.get('Level 2', ''),\n",
    "        'DC': doc.get('DC', ''),\n",
    "        'Charge Per Distance': doc.get('Charge Per Distance', ''),\n",
    "        'Car Price': doc.get('Car Price', '')\n",
    "    }\n",
    "    cleaned_ev_make_model.append(cleaned_doc)\n",
    "\n",
    "# Create DataFrame from cleaned data\n",
    "df_ev_make_model = pd.DataFrame(cleaned_ev_make_model)\n",
    "\n",
    "# Display the DataFrame\n",
    "print(df_ev_make_model.head())"
   ]
  },
  {
   "cell_type": "code",
   "execution_count": 201,
   "id": "f52414f7",
   "metadata": {},
   "outputs": [
    {
     "name": "stdout",
     "output_type": "stream",
     "text": [
      "Facility Type\n",
      "FUEL STATION                 32435\n",
      "HOTEL                         2464\n",
      "CAR_DEALER                    1949\n",
      "SHOPPING_CENTER                682\n",
      "MUNI_GOV                       525\n",
      "OFFICE_BLDG                    434\n",
      "SHOPPING_MALL                  428\n",
      "PAY_GARAGE                     399\n",
      "COLLEGE_CAMPUS                 396\n",
      "INN                            351\n",
      "PARKING_LOT                    303\n",
      "GROCERY                        280\n",
      "PARKING_GARAGE                 277\n",
      "RESTAURANT                     274\n",
      "BREWERY_DISTILLERY_WINERY      243\n",
      "PARK                           196\n",
      "UTILITY                        176\n",
      "OTHER_ENTERTAINMENT            140\n",
      "CONVENIENCE_STORE              135\n",
      "SCHOOL                         135\n",
      "HOSPITAL                       132\n",
      "REC_SPORTS_FACILITY            115\n",
      "LIBRARY                         97\n",
      "AIRPORT                         92\n",
      "MUSEUM                          78\n",
      "B_AND_B                         78\n",
      "MULTI_UNIT_DWELLING             75\n",
      "TRAVEL_CENTER                   62\n",
      "STATE_GOV                       49\n",
      "GAS_STATION                     47\n",
      "STREET_PARKING                  43\n",
      "PLACE_OF_WORSHIP                41\n",
      "NATL_PARK                       39\n",
      "BANK                            36\n",
      "COOP                            32\n",
      "PAY_LOT                         31\n",
      "STANDALONE_STATION              30\n",
      "REST_STOP                       27\n",
      "AUTO_REPAIR                     25\n",
      "OTHER                           18\n",
      "CONVENTION_CENTER               16\n",
      "FLEET_GARAGE                    13\n",
      "FED_GOV                         11\n",
      "ARENA                            9\n",
      "FIRE_STATION                     8\n",
      "CAMPGROUND                       8\n",
      "TRUCK_STOP                       8\n",
      "HARDWARE_STORE                   8\n",
      "FACTORY                          8\n",
      "STADIUM                          7\n",
      "RESEARCH_FACILITY                6\n",
      "STORAGE                          6\n",
      "FUEL_RESELLER                    3\n",
      "CARWASH                          3\n",
      "MOTOR_POOL                       3\n",
      "RV_PARK                          2\n",
      "RENTAL_CAR_RETURN                2\n",
      "PHARMACY                         1\n",
      "PRISON                           1\n",
      "RETAIL                           1\n",
      "Name: count, dtype: Int64\n"
     ]
    }
   ],
   "source": [
    "\n",
    "\n",
    "# Replace empty strings in 'Facility Type' with 'Fuel Station'\n",
    "final_merged_df['Facility Type'].replace('', 'FUEL STATION', inplace=True)\n",
    "\n",
    "# Count occurrences of each Facility Type\n",
    "facility_type_counts = final_merged_df['Facility Type'].value_counts()\n",
    "\n",
    "# Print the counts\n",
    "print(facility_type_counts)"
   ]
  },
  {
   "cell_type": "code",
   "execution_count": 202,
   "id": "d9be241a",
   "metadata": {},
   "outputs": [
    {
     "name": "stdout",
     "output_type": "stream",
     "text": [
      "Facility Type\n",
      "FUEL STATION                 32435\n",
      "HOTEL                         2464\n",
      "CAR_DEALER                    1949\n",
      "SHOPPING_CENTER                682\n",
      "MUNI_GOV                       525\n",
      "OFFICE_BLDG                    434\n",
      "SHOPPING_MALL                  428\n",
      "PAY_GARAGE                     399\n",
      "COLLEGE_CAMPUS                 396\n",
      "INN                            351\n",
      "PARKING_LOT                    303\n",
      "GROCERY                        280\n",
      "PARKING_GARAGE                 277\n",
      "RESTAURANT                     274\n",
      "BREWERY_DISTILLERY_WINERY      243\n",
      "PARK                           196\n",
      "UTILITY                        176\n",
      "OTHER_ENTERTAINMENT            140\n",
      "CONVENIENCE_STORE              135\n",
      "SCHOOL                         135\n",
      "HOSPITAL                       132\n",
      "REC_SPORTS_FACILITY            115\n",
      "LIBRARY                         97\n",
      "AIRPORT                         92\n",
      "MUSEUM                          78\n",
      "B_AND_B                         78\n",
      "MULTI_UNIT_DWELLING             75\n",
      "TRAVEL_CENTER                   62\n",
      "STATE_GOV                       49\n",
      "GAS_STATION                     47\n",
      "STREET_PARKING                  43\n",
      "PLACE_OF_WORSHIP                41\n",
      "NATL_PARK                       39\n",
      "BANK                            36\n",
      "COOP                            32\n",
      "PAY_LOT                         31\n",
      "STANDALONE_STATION              30\n",
      "REST_STOP                       27\n",
      "AUTO_REPAIR                     25\n",
      "OTHER                           18\n",
      "CONVENTION_CENTER               16\n",
      "FLEET_GARAGE                    13\n",
      "FED_GOV                         11\n",
      "ARENA                            9\n",
      "FIRE_STATION                     8\n",
      "CAMPGROUND                       8\n",
      "TRUCK_STOP                       8\n",
      "HARDWARE_STORE                   8\n",
      "FACTORY                          8\n",
      "STADIUM                          7\n",
      "RESEARCH_FACILITY                6\n",
      "STORAGE                          6\n",
      "FUEL_RESELLER                    3\n",
      "CARWASH                          3\n",
      "MOTOR_POOL                       3\n",
      "RV_PARK                          2\n",
      "RENTAL_CAR_RETURN                2\n",
      "PHARMACY                         1\n",
      "PRISON                           1\n",
      "RETAIL                           1\n",
      "Name: count, dtype: Int64\n"
     ]
    }
   ],
   "source": [
    "# Count occurrences of each Facility Type\n",
    "facility_type_counts = final_merged_df['Facility Type'].value_counts()\n",
    "\n",
    "# Print the counts\n",
    "print(facility_type_counts)"
   ]
  },
  {
   "cell_type": "code",
   "execution_count": 203,
   "id": "76c75242",
   "metadata": {},
   "outputs": [],
   "source": [
    "EV = pd.DataFrame(cleaned_ev_make_model)"
   ]
  },
  {
   "cell_type": "code",
   "execution_count": 204,
   "id": "38bf0baa-40cb-4e26-ade3-033fddbd0a71",
   "metadata": {},
   "outputs": [
    {
     "data": {
      "text/plain": [
       "Title             82869\n",
       "Geocode Status    82869\n",
       "City              82869\n",
       "State             82869\n",
       "Address           82869\n",
       "ZIP Code          82822\n",
       "Access Code       82869\n",
       "Longitude         82869\n",
       "Latitude          82869\n",
       "dtype: int64"
      ]
     },
     "execution_count": 204,
     "metadata": {},
     "output_type": "execute_result"
    }
   ],
   "source": [
    "df_alt_fueling_stations.count()"
   ]
  },
  {
   "cell_type": "code",
   "execution_count": 205,
   "id": "e1de9dec-dc0c-44ce-b39a-034e70d818bd",
   "metadata": {},
   "outputs": [
    {
     "data": {
      "text/plain": [
       "Fuel Type                 42878\n",
       "Title                     42878\n",
       "Address                   42878\n",
       "City                      42878\n",
       "State                     42878\n",
       "ZIP Code                  42864\n",
       "Country                   42878\n",
       "Phone Number              42878\n",
       "StatusType_Title          42878\n",
       "GroupsWith Access Code    42878\n",
       "Charging Levels           42878\n",
       "OperatorTitle             42878\n",
       "Geocode Status            42878\n",
       "Latitude                  42878\n",
       "Longitude                 42878\n",
       "Access Code               42878\n",
       "Facility Type             42878\n",
       "Pricing                   42878\n",
       "Connector Type            42878\n",
       "dtype: int64"
      ]
     },
     "execution_count": 205,
     "metadata": {},
     "output_type": "execute_result"
    }
   ],
   "source": [
    "df_us_alt_fuel_stations.count()"
   ]
  },
  {
   "cell_type": "code",
   "execution_count": 206,
   "id": "7b789d4c-8ccd-4117-8b29-55e0d09ff428",
   "metadata": {},
   "outputs": [
    {
     "name": "stdout",
     "output_type": "stream",
     "text": [
      "Title                     Los Angeles Convention Center\n",
      "City                                        Los Angeles\n",
      "State                                                CA\n",
      "Address                              1201 S Figueroa St\n",
      "ZIP Code                                        90015.0\n",
      "Longitude                                   -118.271387\n",
      "Latitude                                      34.040539\n",
      "Country                                              US\n",
      "Phone_Number                               213-741-1151\n",
      "StatusType_Title                                      E\n",
      "GroupsWith Access Code                                 \n",
      "Charging Levels                                      12\n",
      "OperatorTitle                             Non-Networked\n",
      "Access Code                                      public\n",
      "Facility Type                            PARKING_GARAGE\n",
      "Pricing                                                \n",
      "Connector Type                                    J1772\n",
      "Name: 0, dtype: object\n"
     ]
    }
   ],
   "source": [
    "# Select one row by index\n",
    "row = final_merged_df.iloc[0]\n",
    "\n",
    "# Display the values of the selected row\n",
    "print(row)\n"
   ]
  },
  {
   "cell_type": "code",
   "execution_count": 207,
   "id": "8990c5a9",
   "metadata": {},
   "outputs": [
    {
     "name": "stdout",
     "output_type": "stream",
     "text": [
      "Pricing\n",
      "                                                                                      29870\n",
      "Free                                                                                   8818\n",
      "FREE                                                                                    868\n",
      "$0.28 per kWh; $0.26 per minute above 60 kW and $0.13 per minute at or below 60 kW      862\n",
      "Level 2: $0.49 per kWh                                                                  688\n",
      "                                                                                      ...  \n",
      "$0.00-$5.00/Hr Variable Parking Fee, $0.20-$0.30/kWh Variable Energy Fee                  1\n",
      "Free for guests; $5 per session for non guests                                            1\n",
      "$2.40 per hour                                                                            1\n",
      "$0.60 per kWh                                                                             1\n",
      "$1.50-$3.50/Hr Variable Parking Fee, $0.12/kWh Energy Fee                                 1\n",
      "Name: count, Length: 460, dtype: Int64\n"
     ]
    }
   ],
   "source": [
    "# Assuming your DataFrame is named final_merged_df\n",
    "pricing_counts = final_merged_df['Pricing'].value_counts()\n",
    "\n",
    "# Display the counts\n",
    "print(pricing_counts)\n"
   ]
  },
  {
   "cell_type": "code",
   "execution_count": 208,
   "id": "b79240c5",
   "metadata": {},
   "outputs": [
    {
     "name": "stdout",
     "output_type": "stream",
     "text": [
      "Pricing\n",
      "                                                                                      29870\n",
      "Free                                                                                   8818\n",
      "FREE                                                                                    868\n",
      "$0.28 per kWh; $0.26 per minute above 60 kW and $0.13 per minute at or below 60 kW      862\n",
      "Level 2: $0.49 per kWh                                                                  688\n",
      "                                                                                      ...  \n",
      "$0.00-$5.00/Hr Variable Parking Fee, $0.20-$0.30/kWh Variable Energy Fee                  1\n",
      "Free for guests; $5 per session for non guests                                            1\n",
      "$2.40 per hour                                                                            1\n",
      "$0.60 per kWh                                                                             1\n",
      "$1.50-$3.50/Hr Variable Parking Fee, $0.12/kWh Energy Fee                                 1\n",
      "Name: count, Length: 460, dtype: Int64\n"
     ]
    }
   ],
   "source": [
    "# Assuming your DataFrame is named final_merged_df\n",
    "pricing_counts = final_merged_df['Pricing'].value_counts()\n",
    "\n",
    "# Display the first 50 pricing value counts\n",
    "print(pricing_counts.head(1000))\n"
   ]
  },
  {
   "cell_type": "code",
   "execution_count": 209,
   "id": "856d3509-424c-4879-8cd9-c97c7c6d932b",
   "metadata": {},
   "outputs": [],
   "source": [
    "# Assuming your DataFrame is named final_merged_df\n",
    "final_merged_df['Pricing'] = final_merged_df['Pricing'].str.capitalize()\n"
   ]
  },
  {
   "cell_type": "code",
   "execution_count": 210,
   "id": "34a86451",
   "metadata": {},
   "outputs": [
    {
     "name": "stdout",
     "output_type": "stream",
     "text": [
      "Connector Type\n",
      "J1772                               33224\n",
      "TESLA                                3132\n",
      "CHADEMO J1772COMBO                   2557\n",
      "J1772 TESLA                          2506\n",
      "CHADEMO J1772 J1772COMBO              611\n",
      "CHADEMO J1772                         475\n",
      "J1772COMBO                            370\n",
      "J1772 NEMA515                         327\n",
      "CHADEMO                               144\n",
      "J1772 NEMA520                          66\n",
      "J1772 J1772COMBO                       55\n",
      "J1772 NEMA1450                         13\n",
      "CHADEMO J1772 J1772COMBO TESLA          4\n",
      "CHADEMO J1772COMBO NEMA520              2\n",
      "CHADEMO J1772 NEMA515                   1\n",
      "CHADEMO J1772 NEMA520 TESLA             1\n",
      "J1772 J1772COMBO NEMA520                1\n",
      "J1772 NEMA515 NEMA520                   1\n",
      "J1772 NEMA1450 NEMA520                  1\n",
      "CHADEMO J1772 J1772COMBO NEMA520        1\n",
      "CHADEMO J1772COMBO TESLA                1\n",
      "Name: count, dtype: Int64\n"
     ]
    }
   ],
   "source": [
    "# Calculate value counts of Connector Type\n",
    "connector_type_counts = final_merged_df['Connector Type'].value_counts()\n",
    "\n",
    "# Display the value counts\n",
    "print(connector_type_counts)\n"
   ]
  },
  {
   "cell_type": "code",
   "execution_count": 211,
   "id": "4f829c98",
   "metadata": {},
   "outputs": [
    {
     "name": "stdout",
     "output_type": "stream",
     "text": [
      "Pricing\n",
      "$0.28 per kwh; $0.26 per minute above 60 kw and $0.13 per minute at or below 60 kw    862\n",
      "Level 2: $0.49 per kwh                                                                688\n",
      "Level 2: $0.59 per kwh                                                                290\n",
      "Level 2: $0.03 per 30 seconds                                                         214\n",
      "$2.00/hr parking fee                                                                  201\n",
      "                                                                                     ... \n",
      "$0.21 per min                                                                           1\n",
      "Free for guests; $15 for non-guests                                                     1\n",
      "Level 2: $0.3 per minute                                                                1\n",
      "L2: free; dcfc: free for 30 minutes                                                     1\n",
      "$1.50-$3.50/hr variable parking fee, $0.12/kwh energy fee                               1\n",
      "Name: count, Length: 455, dtype: Int64\n"
     ]
    }
   ],
   "source": [
    "# Filter the DataFrame to exclude \"Free\" and empty values in the \"Pricing\" column\n",
    "filtered_df = final_merged_df[(final_merged_df['Pricing'] != 'Free') & (final_merged_df['Pricing'] != '')]\n",
    "\n",
    "# Calculate the value counts of the filtered DataFrame\n",
    "pricing_counts = filtered_df['Pricing'].value_counts()\n",
    "\n",
    "# Display the value counts\n",
    "print(pricing_counts)\n"
   ]
  },
  {
   "cell_type": "code",
   "execution_count": 212,
   "id": "5178e824",
   "metadata": {},
   "outputs": [
    {
     "name": "stdout",
     "output_type": "stream",
     "text": [
      "Pricing\n",
      "$0.28 per kwh; $0.26 per minute above 60 kw and $0.13 per minute at or below 60 kw    862\n",
      "Level 2: $0.49 per kwh                                                                688\n",
      "Level 2: $0.59 per kwh                                                                290\n",
      "Level 2: $0.03 per 30 seconds                                                         214\n",
      "$2.00/hr parking fee                                                                  201\n",
      "                                                                                     ... \n",
      "$0.21 per min                                                                           1\n",
      "Free for guests; $15 for non-guests                                                     1\n",
      "Level 2: $0.3 per minute                                                                1\n",
      "L2: free; dcfc: free for 30 minutes                                                     1\n",
      "$1.50-$3.50/hr variable parking fee, $0.12/kwh energy fee                               1\n",
      "Name: count, Length: 455, dtype: Int64\n"
     ]
    }
   ],
   "source": [
    "# Display all pricing value counts\n",
    "print(pricing_counts)\n"
   ]
  },
  {
   "cell_type": "code",
   "execution_count": 213,
   "id": "b2f0f203",
   "metadata": {},
   "outputs": [
    {
     "data": {
      "text/plain": [
       "Title                     43493\n",
       "City                      43493\n",
       "State                     43493\n",
       "Address                   43493\n",
       "ZIP Code                  43479\n",
       "Longitude                 43493\n",
       "Latitude                  43493\n",
       "Country                   43493\n",
       "Phone_Number              43493\n",
       "StatusType_Title          43493\n",
       "GroupsWith Access Code    43493\n",
       "Charging Levels           43493\n",
       "OperatorTitle             43493\n",
       "Access Code               43493\n",
       "Facility Type             43493\n",
       "Pricing                   43493\n",
       "Connector Type            43493\n",
       "dtype: int64"
      ]
     },
     "execution_count": 213,
     "metadata": {},
     "output_type": "execute_result"
    }
   ],
   "source": [
    "final_merged_df.count(\n",
    "    \n",
    ")"
   ]
  },
  {
   "cell_type": "code",
   "execution_count": 214,
   "id": "5c0a1d9c",
   "metadata": {},
   "outputs": [],
   "source": [
    "final_merged_df = final_merged_df[final_merged_df['Pricing'] != \"\"]\n"
   ]
  },
  {
   "cell_type": "code",
   "execution_count": 215,
   "id": "4742089d-5f9b-4f19-9744-afcef1f5dcfd",
   "metadata": {},
   "outputs": [
    {
     "name": "stdout",
     "output_type": "stream",
     "text": [
      "                                                   Title         City State  \\\n",
      "275                                        Ancira Nissan  San Antonio    TX   \n",
      "276                                        Ancira Nissan  San Antonio    TX   \n",
      "277                                          Gunn Nissan  San Antonio    TX   \n",
      "278                                          Gunn Nissan  San Antonio    TX   \n",
      "279                                   Ingram Park Nissan  San Antonio    TX   \n",
      "280                                   Ingram Park Nissan  San Antonio    TX   \n",
      "281                                     World Car Nissan  San Antonio    TX   \n",
      "282                                     World Car Nissan  San Antonio    TX   \n",
      "695                       Mission Trail Baptist Hospital  San Antonio    TX   \n",
      "3096                                      Northside Ford  San Antonio    TX   \n",
      "7985                   Alamo Area Council of Governments  San Antonio    TX   \n",
      "11463          Riverwalk Plaza Hotel - Tesla Destination  San Antonio    TX   \n",
      "11464                   Hotel Havana - Tesla Destination  San Antonio    TX   \n",
      "11465  Hyatt Regency San Antonio Riverwalk - Tesla De...  San Antonio    TX   \n",
      "11466                     Hotel Emma - Tesla Destination  San Antonio    TX   \n",
      "11467  La Cantera Resort & Spa, a Destination Hotel -...  San Antonio    TX   \n",
      "11468  Noble Inns - Oge Inn Riverwalk - Tesla Destina...  San Antonio    TX   \n",
      "11469  Comfort Suites Alamo/Riverwalk - Tesla Destina...  San Antonio    TX   \n",
      "11470        Stewart Shopping Center - Tesla Destination  San Antonio    TX   \n",
      "11471        Grand Hyatt San Antonio - Tesla Destination  San Antonio    TX   \n",
      "11472  Candlewood Suites San Antonio Lackland AFB Are...  San Antonio    TX   \n",
      "11473          El Mirador Restaurant - Tesla Destination  San Antonio    TX   \n",
      "11474  Hyatt Regency Hill Country Resort and Spa - Te...  San Antonio    TX   \n",
      "11475           The St Anthony Hotel - Tesla Destination  San Antonio    TX   \n",
      "15902                            Grand Hyatt San Antonio  San Antonio    TX   \n",
      "15903                                              Agave  San Antonio    TX   \n",
      "16198  Huebner Oaks Shopping Center - Tesla Supercharger  San Antonio    TX   \n",
      "18475            Leon Springs H-E-B - Tesla Supercharger  San Antonio    TX   \n",
      "24536                        Audi Dominion - Parking Lot  San Antonio    TX   \n",
      "39041                     The Shops at La Cantera - DCFC  San Antonio    TX   \n",
      "39042                       North Star Mall - Forever 21  San Antonio    TX   \n",
      "39043                North Star Mall - Saks Fifth Avenue  San Antonio    TX   \n",
      "39044                       North Star Mall - Kona Grill  San Antonio    TX   \n",
      "40011                            Vecina Apartment Villas  San Antonio    TX   \n",
      "40814                       Overlook Exchange Apartments  San Antonio    TX   \n",
      "42560                              The Towers La Cantera  San Antonio    TX   \n",
      "\n",
      "                        Address ZIP Code  Longitude   Latitude Country  \\\n",
      "275               10835 IH-10 W  78230.0 -98.575440  29.543147      US   \n",
      "276               10835 IH-10 W  78230.0 -98.575440  29.543147      US   \n",
      "277             750 NE Loop 410  78209.0 -98.467365  29.517253      US   \n",
      "278             750 NE Loop 410  78209.0 -98.467365  29.517253      US   \n",
      "279            6990 NW Loop 410  78238.0 -98.625324  29.457047      US   \n",
      "280            6990 NW Loop 410  78238.0 -98.625324  29.457047      US   \n",
      "281               12908 IH-35 N  78233.0 -98.344690  29.556508      US   \n",
      "282               12908 IH-35 N  78233.0 -98.344690  29.556508      US   \n",
      "695         3333 Research Plaza  78235.0 -98.436931  29.343808      US   \n",
      "3096            12300 San Pedro  78216.0 -98.485292  29.551307      US   \n",
      "7985             8700 Tesoro Dr  78217.0 -98.454053  29.518993      US   \n",
      "11463            100 Villita St  78205.0 -98.493044  29.422815      US   \n",
      "11464           1015 Navarro St  78228.0 -98.489866  29.430801      US   \n",
      "11465             123 Losoya St  78205.0 -98.488245  29.425567      US   \n",
      "11466          136 E Grayson St  78215.0 -98.480296  29.444053      US   \n",
      "11467    16641  La Cantera Pkwy  78256.0 -98.620445  29.604692      US   \n",
      "11468         209 Washington St  78204.0 -98.492711  29.417283      US   \n",
      "11469           505 Live Oak St  78202.0 -98.481024  29.426655      US   \n",
      "11470          5120 Broadway St  78209.0 -98.462491  29.474126      US   \n",
      "11471           600 E Market St  78205.0 -98.485196  29.420243      US   \n",
      "11472             6439 Hwy 90 W  78227.0 -98.613219  29.405837      US   \n",
      "11473        722 S St Mary's St  78205.0 -98.489687  29.417302      US   \n",
      "11474      9800 Hyatt Resort Dr  78251.0 -98.681357  29.463279      US   \n",
      "11475           300 E Travis St  78205.0 -98.489583  29.427392      US   \n",
      "15902           600 E Market St  78205.0 -98.484270  29.421914      US   \n",
      "15903        633 S St Mary's St  78205.0 -98.491535  29.418857      US   \n",
      "16198                11745 I-10  78230.0 -98.580900  29.549100      US   \n",
      "18475           24165 I-10 #300  78257.0 -98.633300  29.666298      US   \n",
      "24536             21105 W IH 10  78257.0 -98.616804  29.637811      US   \n",
      "39041     15900 La Cantera Pkwy  78256.0 -98.615985  29.593532      US   \n",
      "39042        7400 San Pedro Ave  78216.0 -98.493904  29.517750      US   \n",
      "39043        7400 San Pedro Ave  78216.0 -98.493562  29.519504      US   \n",
      "39044        7400 San Pedro Ave  78216.0 -98.495290  29.519070      US   \n",
      "40011      20915 Wilderness Oak  78258.0 -98.512732  29.636618      US   \n",
      "40814       6455 De Zavala Road  78249.0 -98.615071  29.560592      US   \n",
      "42560  16735 La Cantera Parkway  78256.0 -98.612653  29.607412      US   \n",
      "\n",
      "                     Phone_Number StatusType_Title GroupsWith Access Code  \\\n",
      "275                  210-558-5001                E                          \n",
      "276                  210-558-5001                E                          \n",
      "277                  888-693-8380                E                          \n",
      "278                  888-693-8380                E                          \n",
      "279                  210-681-6300                E                          \n",
      "280                  210-681-6300                E                          \n",
      "281                  210-599-5959                E                          \n",
      "282                  210-599-5959                E                          \n",
      "695                  210-297-3000                E                          \n",
      "3096                 210-525-9800                E                          \n",
      "7985                 210-362-5200                E                          \n",
      "11463  210-225-1234  877-798-3752                E                          \n",
      "11464  210-222-2008  877-798-3752                E                          \n",
      "11465  210-222-1234  877-798-3752                E                          \n",
      "11466  210-448-8300  877-798-3752                E                          \n",
      "11467  210-558-6500  877-798-3752                E                          \n",
      "11468  210-223-2353  877-798-3752                E                          \n",
      "11469  210-227-5200  877-798-3752                E                          \n",
      "11470  210-828-1221  877-798-3752                E                          \n",
      "11471  210-224-1234  877-798-3752                E                          \n",
      "11472  210-674-1512  877-798-3752                E                          \n",
      "11473  210-225-9444  877-798-3752                E                          \n",
      "11474  210-647-1234  877-798-3752                E                          \n",
      "11475  210-227-4392  877-798-3752                E                          \n",
      "15902                800-663-5633                E                          \n",
      "15903                800-663-5633                E                          \n",
      "16198                877-798-3752                E                          \n",
      "18475                877-798-3752                E                          \n",
      "24536                888-998-2546                E                          \n",
      "39041                888-264-2208                E                          \n",
      "39042                888-264-2208                E                          \n",
      "39043                888-264-2208                E                          \n",
      "39044                888-264-2208                E                          \n",
      "40011                888-998-2546                E                          \n",
      "40814                888-998-2546                E                          \n",
      "42560                800-663-5633                E                          \n",
      "\n",
      "      Charging Levels       OperatorTitle Access Code    Facility Type  \\\n",
      "275                 1       Non-Networked      public       CAR_DEALER   \n",
      "276                 1       Non-Networked      public       CAR_DEALER   \n",
      "277                 1       Non-Networked      public       CAR_DEALER   \n",
      "278                 1       Non-Networked      public       CAR_DEALER   \n",
      "279                 1       Non-Networked      public       CAR_DEALER   \n",
      "280                 1       Non-Networked      public       CAR_DEALER   \n",
      "281                 1       Non-Networked      public       CAR_DEALER   \n",
      "282                 1       Non-Networked      public       CAR_DEALER   \n",
      "695                 3       Non-Networked      public         HOSPITAL   \n",
      "3096                3       Non-Networked      public       CAR_DEALER   \n",
      "7985                2       Non-Networked      public         MUNI_GOV   \n",
      "11463               3   Tesla Destination      public            HOTEL   \n",
      "11464               2   Tesla Destination      public            HOTEL   \n",
      "11465               1   Tesla Destination      public            HOTEL   \n",
      "11466               2   Tesla Destination      public            HOTEL   \n",
      "11467               2   Tesla Destination      public            HOTEL   \n",
      "11468               2   Tesla Destination      public              INN   \n",
      "11469               3   Tesla Destination      public            HOTEL   \n",
      "11470               3   Tesla Destination      public  SHOPPING_CENTER   \n",
      "11471               2   Tesla Destination      public            HOTEL   \n",
      "11472               2   Tesla Destination      public            HOTEL   \n",
      "11473               2   Tesla Destination      public       RESTAURANT   \n",
      "11474               3   Tesla Destination      public            HOTEL   \n",
      "11475               2   Tesla Destination      public            HOTEL   \n",
      "15902               2  SemaCharge Network      public     FUEL STATION   \n",
      "15903               1  SemaCharge Network      public     FUEL STATION   \n",
      "16198                               Tesla      public     FUEL STATION   \n",
      "18475                               Tesla      public    SHOPPING_MALL   \n",
      "24536               2       Blink Network      public     FUEL STATION   \n",
      "39041                               Volta      public    SHOPPING_MALL   \n",
      "39042               5               Volta      public    SHOPPING_MALL   \n",
      "39043               4               Volta      public    SHOPPING_MALL   \n",
      "39044               1               Volta      public    SHOPPING_MALL   \n",
      "40011               3       Blink Network      public     FUEL STATION   \n",
      "40814               1       Blink Network      public     FUEL STATION   \n",
      "42560               2  SemaCharge Network      public     FUEL STATION   \n",
      "\n",
      "                                                 Pricing Connector Type  \n",
      "275                                                 Free          J1772  \n",
      "276                                                 Free          J1772  \n",
      "277                                                 Free          J1772  \n",
      "278                                                 Free          J1772  \n",
      "279                                                 Free          J1772  \n",
      "280                                                 Free          J1772  \n",
      "281                                                 Free          J1772  \n",
      "282                                                 Free          J1772  \n",
      "695                                                 Free          J1772  \n",
      "3096                                                Free          J1772  \n",
      "7985                                                Free          J1772  \n",
      "11463                                               Free    J1772 TESLA  \n",
      "11464                                               Free    J1772 TESLA  \n",
      "11465                                               Free          TESLA  \n",
      "11466                                               Free          TESLA  \n",
      "11467                                               Free          TESLA  \n",
      "11468                                               Free    J1772 TESLA  \n",
      "11469                                               Free    J1772 TESLA  \n",
      "11470                                               Free    J1772 TESLA  \n",
      "11471                                               Free    J1772 TESLA  \n",
      "11472                                               Free          TESLA  \n",
      "11473                                               Free    J1772 TESLA  \n",
      "11474                                               Free    J1772 TESLA  \n",
      "11475                                               Free    J1772 TESLA  \n",
      "15902        $2.50/hr parking fee , $2.50/kwh energy fee          J1772  \n",
      "15903                $0.18-$0.68/hr variable parking fee          J1772  \n",
      "16198  $0.28 per kwh; $0.26 per minute above 60 kw an...          TESLA  \n",
      "18475  $0.28 per kwh; $0.26 per minute above 60 kw an...          TESLA  \n",
      "24536                                               Free          J1772  \n",
      "39041                          Free for first 30 minutes     J1772COMBO  \n",
      "39042                                               Free          J1772  \n",
      "39043                                               Free          J1772  \n",
      "39044                                               Free          J1772  \n",
      "40011                             Level 2: $0.49 per kwh          J1772  \n",
      "40814                             Level 2: $0.49 per kwh          J1772  \n",
      "42560  $2.00-$5.00/hr variable parking fee, $0.20/kwh...          J1772  \n"
     ]
    }
   ],
   "source": [
    "# Search for rows where the city contains 'San Antonio'\n",
    "san_antonio_data = final_merged_df[final_merged_df['City'].str.contains('San Antonio', case=False)]\n",
    "\n",
    "# Display the resulting data\n",
    "print(san_antonio_data)\n"
   ]
  },
  {
   "cell_type": "code",
   "execution_count": 216,
   "id": "690d1cb9-3c51-4a78-9bb4-89360ad61eda",
   "metadata": {},
   "outputs": [],
   "source": [
    "# Replace empty values in the 'Connector Type' column with 'Unknown'\n",
    "final_merged_df['Connector Type'].fillna('Unknown', inplace=True)\n"
   ]
  },
  {
   "cell_type": "code",
   "execution_count": 217,
   "id": "a3c457a2",
   "metadata": {},
   "outputs": [],
   "source": [
    "\n",
    "# Get the current directory of the notebook\n",
    "current_dir = os.getcwd()\n",
    "\n",
    "# Define the file path relative to the resource folder\n",
    "file_path = os.path.join(current_dir, 'resource', 'final_merged_data.json')"
   ]
  },
  {
   "cell_type": "code",
   "execution_count": 218,
   "id": "b825dc93",
   "metadata": {},
   "outputs": [],
   "source": [
    "# Get the current directory of the notebook\n",
    "current_dir = os.getcwd()\n",
    "\n",
    "# Define the file path relative to the resource folder\n",
    "file_path2 = os.path.join(current_dir, 'resource', 'EV_Make_Model.json')"
   ]
  },
  {
   "cell_type": "code",
   "execution_count": 219,
   "id": "38d284aa",
   "metadata": {},
   "outputs": [
    {
     "name": "stdout",
     "output_type": "stream",
     "text": [
      "JSON data has been exported to /Users/albertoalvarado/Desktop/last fucking time/idk/Project3/resource/EV_Make_Model.json\n"
     ]
    }
   ],
   "source": [
    "# Convert DataFrame to JSON format\n",
    "json_data2 = df_ev_make_model.to_json(orient='records', indent=4)\n",
    "\n",
    "# Write JSON data to a file\n",
    "with open(file_path2, 'w') as file:\n",
    "    file.write(json_data2)\n",
    "\n",
    "print(f\"JSON data has been exported to {file_path2}\")"
   ]
  },
  {
   "cell_type": "code",
   "execution_count": 220,
   "id": "c3b460c5-0ccc-41fb-a274-81015d8cc493",
   "metadata": {},
   "outputs": [
    {
     "name": "stdout",
     "output_type": "stream",
     "text": [
      "JSON data has been exported to /Users/albertoalvarado/Desktop/last fucking time/idk/Project3/resource/final_merged_data.json\n"
     ]
    }
   ],
   "source": [
    "# Convert DataFrame to JSON format\n",
    "json_data = final_merged_df.to_json(orient='records', indent=4)\n",
    "\n",
    "# Write JSON data to a file\n",
    "with open(file_path, 'w') as file:\n",
    "    file.write(json_data)\n",
    "\n",
    "print(f\"JSON data has been exported to {file_path}\")\n"
   ]
  }
 ],
 "metadata": {
  "kernelspec": {
   "display_name": "venv",
   "language": "python",
   "name": "venv"
  },
  "language_info": {
   "codemirror_mode": {
    "name": "ipython",
    "version": 3
   },
   "file_extension": ".py",
   "mimetype": "text/x-python",
   "name": "python",
   "nbconvert_exporter": "python",
   "pygments_lexer": "ipython3",
   "version": "3.11.5"
  }
 },
 "nbformat": 4,
 "nbformat_minor": 5
}
