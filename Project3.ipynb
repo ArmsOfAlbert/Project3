{
 "cells": [
  {
   "cell_type": "code",
   "execution_count": 1,
   "id": "7864420e-0f1a-451f-a417-e083a50f083e",
   "metadata": {},
   "outputs": [],
   "source": [
    "from pymongo import MongoClient\n",
    "import pandas as pd\n",
    "from pprint import pprint\n",
    "from flask import Flask, jsonify\n",
    "import os"
   ]
  },
  {
   "cell_type": "code",
   "execution_count": 2,
   "id": "3bc7c6c0-934f-4907-a21d-87892b3f77a7",
   "metadata": {},
   "outputs": [],
   "source": [
    "# Create an instance of MongoClient\n",
    "mongo = MongoClient(port=27017)"
   ]
  },
  {
   "cell_type": "code",
   "execution_count": 3,
   "id": "bcc00311-7586-4c25-a623-308221c3ec59",
   "metadata": {},
   "outputs": [],
   "source": [
    "app = Flask(__name__)\n"
   ]
  },
  {
   "cell_type": "code",
   "execution_count": 4,
   "id": "29a30a58-4f35-4655-9d91-52f1cb30386c",
   "metadata": {},
   "outputs": [],
   "source": [
    "# assign the uk_food database to a variable name\n",
    "db = mongo['openChargeMap']\n"
   ]
  },
  {
   "cell_type": "code",
   "execution_count": 5,
   "id": "41e8911d-d103-40bc-ab26-a94b77e67ce5",
   "metadata": {},
   "outputs": [
    {
     "name": "stdout",
     "output_type": "stream",
     "text": [
      "['us_alt_fuel_stations', 'POI_List', 'EV_Make_Model', 'Alternative_Fueling_Stations']\n"
     ]
    }
   ],
   "source": [
    "# review the collections in our database\n",
    "print(db.list_collection_names())"
   ]
  },
  {
   "cell_type": "code",
   "execution_count": 6,
   "id": "1f9b2124-397c-48a5-8ddc-2f6918c1b304",
   "metadata": {},
   "outputs": [],
   "source": [
    "# assign the collection to a variable\n",
    "EV_Make_Model = db['EV_Make_Model']\n",
    "us_alt_fuel_stations = db['us_alt_fuel_stations']\n",
    "Alternative_Fueling_Stations = db['Alternative_Fueling_Stations']"
   ]
  },
  {
   "cell_type": "code",
   "execution_count": 7,
   "id": "ee65fcfd-dbe4-4b1b-8f5d-2ba65fbb2a02",
   "metadata": {},
   "outputs": [
    {
     "name": "stdout",
     "output_type": "stream",
     "text": [
      "Collection(Database(MongoClient(host=['localhost:27017'], document_class=dict, tz_aware=False, connect=True), 'openChargeMap'), 'EV_Make_Model')\n",
      "Collection(Database(MongoClient(host=['localhost:27017'], document_class=dict, tz_aware=False, connect=True), 'openChargeMap'), 'us_alt_fuel_stations')\n",
      "Collection(Database(MongoClient(host=['localhost:27017'], document_class=dict, tz_aware=False, connect=True), 'openChargeMap'), 'Alternative_Fueling_Stations')\n"
     ]
    }
   ],
   "source": [
    "pprint(EV_Make_Model)\n",
    "pprint(us_alt_fuel_stations)\n",
    "pprint(Alternative_Fueling_Stations)"
   ]
  },
  {
   "cell_type": "code",
   "execution_count": 8,
   "id": "c5834984-f1a2-4f38-83be-4aaf4b0637c1",
   "metadata": {},
   "outputs": [],
   "source": [
    "def clean_address(address):\n",
    "    # Example: Remove leading/trailing whitespace and capitalize letters\n",
    "    return address.strip().title()\n"
   ]
  },
  {
   "cell_type": "code",
   "execution_count": 9,
   "id": "7ffddc7d-aa2f-4b10-b3e0-495658f92511",
   "metadata": {},
   "outputs": [
    {
     "name": "stdout",
     "output_type": "stream",
     "text": [
      "                                   station_name geocode_status         city  \\\n",
      "0          Spire - Montgomery Operations Center          200-9   Montgomery   \n",
      "1  Metropolitan Atlanta Rapid Transit Authority          200-8      Atlanta   \n",
      "2                         United Parcel Service          200-9      Atlanta   \n",
      "3                    Arkansas Oklahoma Gas Corp          200-9   Fort Smith   \n",
      "4    Clean Energy - Logan International Airport            GPS  East Boston   \n",
      "\n",
      "  state        street_address    zip            groups_with_access_code  \\\n",
      "0    AL      2951 Chestnut St  36107                            Private   \n",
      "1    GA   2424 Piedmont Rd NE  30324          Private - Government only   \n",
      "2    GA  270 Marvin Miller Dr  30336                            Private   \n",
      "3    AR     2100 S Waldron Rd  72903  Public - Credit card at all times   \n",
      "4    MA   1000 Cottage St Ext  02128  Public - Credit card at all times   \n",
      "\n",
      "           longitude   latitude  \n",
      "0         -86.267021  32.367916  \n",
      "1         -84.367461  33.821911  \n",
      "2         -84.543822  33.760256  \n",
      "3         -94.375338  35.362213  \n",
      "4  -71.0265486057434  42.374706  \n"
     ]
    }
   ],
   "source": [
    "# Clean Alternative_Fueling_Stations Collection\n",
    "cleaned_alt_fueling_stations = []\n",
    "for doc in db['Alternative_Fueling_Stations'].find():\n",
    "    cleaned_doc = {\n",
    "        'station_name': doc.get('station_name', ''),\n",
    "        'geocode_status': doc.get('geocode_status', ''),\n",
    "        'city': doc.get('city', ''),\n",
    "        'state': doc.get('state', ''),\n",
    "        'street_address': doc.get('street_address', ''),\n",
    "        'zip': doc.get('zip', ''),\n",
    "        'groups_with_access_code': doc.get('groups_with_access_code', ''),\n",
    "        'longitude': doc.get('longitude', ''),\n",
    "        'latitude': doc.get('latitude', '')\n",
    "    }\n",
    "    cleaned_alt_fueling_stations.append(cleaned_doc)\n",
    "\n",
    "# Create DataFrame from cleaned data\n",
    "df_alt_fueling_stations = pd.DataFrame(cleaned_alt_fueling_stations)\n",
    "\n",
    "# Display the DataFrame\n",
    "print(df_alt_fueling_stations.head())\n"
   ]
  },
  {
   "cell_type": "code",
   "execution_count": 10,
   "id": "1aaea1c5-f4ac-4334-be45-6e5faee8786b",
   "metadata": {},
   "outputs": [
    {
     "name": "stdout",
     "output_type": "stream",
     "text": [
      "                                          Title Geocode Status         City  \\\n",
      "0          Spire - Montgomery Operations Center          200-9   Montgomery   \n",
      "1  Metropolitan Atlanta Rapid Transit Authority          200-8      Atlanta   \n",
      "2                         United Parcel Service          200-9      Atlanta   \n",
      "3                    Arkansas Oklahoma Gas Corp          200-9   Fort Smith   \n",
      "4    Clean Energy - Logan International Airport            GPS  East Boston   \n",
      "\n",
      "  State               Address ZIP Code                        Access Code  \\\n",
      "0    AL      2951 Chestnut St    36107                            Private   \n",
      "1    GA   2424 Piedmont Rd NE    30324          Private - Government only   \n",
      "2    GA  270 Marvin Miller Dr    30336                            Private   \n",
      "3    AR     2100 S Waldron Rd    72903  Public - Credit card at all times   \n",
      "4    MA   1000 Cottage St Ext    02128  Public - Credit card at all times   \n",
      "\n",
      "           Longitude   Latitude  \n",
      "0         -86.267021  32.367916  \n",
      "1         -84.367461  33.821911  \n",
      "2         -84.543822  33.760256  \n",
      "3         -94.375338  35.362213  \n",
      "4  -71.0265486057434  42.374706  \n"
     ]
    }
   ],
   "source": [
    "# Define more descriptive column names\n",
    "descriptive_column_names = {\n",
    "    'access_code': 'Access Code',\n",
    "    'station_name': 'Title',\n",
    "    'geocode_status': 'Geocode Status',\n",
    "    'city': 'City',\n",
    "    'state': 'State',\n",
    "    'street_address': 'Address',\n",
    "    'zip': 'ZIP Code',\n",
    "    'groups_with_access_code': 'Access Code',\n",
    "    'longitude': 'Longitude',\n",
    "    'latitude': 'Latitude'\n",
    "}\n",
    "\n",
    "# Rename columns in df_alt_fueling_stations DataFrame\n",
    "df_alt_fueling_stations.rename(columns=descriptive_column_names, inplace=True)\n",
    "\n",
    "# Display the DataFrame with more descriptive column names\n",
    "print(df_alt_fueling_stations.head())\n",
    "\n"
   ]
  },
  {
   "cell_type": "code",
   "execution_count": 11,
   "id": "ef4b8f43-0b3e-406d-a356-83d07f34ebd6",
   "metadata": {},
   "outputs": [
    {
     "data": {
      "text/html": [
       "<div>\n",
       "<style scoped>\n",
       "    .dataframe tbody tr th:only-of-type {\n",
       "        vertical-align: middle;\n",
       "    }\n",
       "\n",
       "    .dataframe tbody tr th {\n",
       "        vertical-align: top;\n",
       "    }\n",
       "\n",
       "    .dataframe thead th {\n",
       "        text-align: right;\n",
       "    }\n",
       "</style>\n",
       "<table border=\"1\" class=\"dataframe\">\n",
       "  <thead>\n",
       "    <tr style=\"text-align: right;\">\n",
       "      <th></th>\n",
       "      <th>Title</th>\n",
       "      <th>Geocode Status</th>\n",
       "      <th>City</th>\n",
       "      <th>State</th>\n",
       "      <th>Address</th>\n",
       "      <th>ZIP Code</th>\n",
       "      <th>Access Code</th>\n",
       "      <th>Longitude</th>\n",
       "      <th>Latitude</th>\n",
       "    </tr>\n",
       "  </thead>\n",
       "  <tbody>\n",
       "    <tr>\n",
       "      <th>0</th>\n",
       "      <td>Spire - Montgomery Operations Center</td>\n",
       "      <td>200-9</td>\n",
       "      <td>Montgomery</td>\n",
       "      <td>AL</td>\n",
       "      <td>2951 Chestnut St</td>\n",
       "      <td>36107</td>\n",
       "      <td>Private</td>\n",
       "      <td>-86.267021</td>\n",
       "      <td>32.367916</td>\n",
       "    </tr>\n",
       "    <tr>\n",
       "      <th>1</th>\n",
       "      <td>Metropolitan Atlanta Rapid Transit Authority</td>\n",
       "      <td>200-8</td>\n",
       "      <td>Atlanta</td>\n",
       "      <td>GA</td>\n",
       "      <td>2424 Piedmont Rd NE</td>\n",
       "      <td>30324</td>\n",
       "      <td>Private - Government only</td>\n",
       "      <td>-84.367461</td>\n",
       "      <td>33.821911</td>\n",
       "    </tr>\n",
       "    <tr>\n",
       "      <th>2</th>\n",
       "      <td>United Parcel Service</td>\n",
       "      <td>200-9</td>\n",
       "      <td>Atlanta</td>\n",
       "      <td>GA</td>\n",
       "      <td>270 Marvin Miller Dr</td>\n",
       "      <td>30336</td>\n",
       "      <td>Private</td>\n",
       "      <td>-84.543822</td>\n",
       "      <td>33.760256</td>\n",
       "    </tr>\n",
       "    <tr>\n",
       "      <th>3</th>\n",
       "      <td>Arkansas Oklahoma Gas Corp</td>\n",
       "      <td>200-9</td>\n",
       "      <td>Fort Smith</td>\n",
       "      <td>AR</td>\n",
       "      <td>2100 S Waldron Rd</td>\n",
       "      <td>72903</td>\n",
       "      <td>Public - Credit card at all times</td>\n",
       "      <td>-94.375338</td>\n",
       "      <td>35.362213</td>\n",
       "    </tr>\n",
       "    <tr>\n",
       "      <th>4</th>\n",
       "      <td>Clean Energy - Logan International Airport</td>\n",
       "      <td>GPS</td>\n",
       "      <td>East Boston</td>\n",
       "      <td>MA</td>\n",
       "      <td>1000 Cottage St Ext</td>\n",
       "      <td>02128</td>\n",
       "      <td>Public - Credit card at all times</td>\n",
       "      <td>-71.0265486057434</td>\n",
       "      <td>42.374706</td>\n",
       "    </tr>\n",
       "  </tbody>\n",
       "</table>\n",
       "</div>"
      ],
      "text/plain": [
       "                                          Title Geocode Status         City  \\\n",
       "0          Spire - Montgomery Operations Center          200-9   Montgomery   \n",
       "1  Metropolitan Atlanta Rapid Transit Authority          200-8      Atlanta   \n",
       "2                         United Parcel Service          200-9      Atlanta   \n",
       "3                    Arkansas Oklahoma Gas Corp          200-9   Fort Smith   \n",
       "4    Clean Energy - Logan International Airport            GPS  East Boston   \n",
       "\n",
       "  State               Address ZIP Code                        Access Code  \\\n",
       "0    AL      2951 Chestnut St    36107                            Private   \n",
       "1    GA   2424 Piedmont Rd NE    30324          Private - Government only   \n",
       "2    GA  270 Marvin Miller Dr    30336                            Private   \n",
       "3    AR     2100 S Waldron Rd    72903  Public - Credit card at all times   \n",
       "4    MA   1000 Cottage St Ext    02128  Public - Credit card at all times   \n",
       "\n",
       "           Longitude   Latitude  \n",
       "0         -86.267021  32.367916  \n",
       "1         -84.367461  33.821911  \n",
       "2         -84.543822  33.760256  \n",
       "3         -94.375338  35.362213  \n",
       "4  -71.0265486057434  42.374706  "
      ]
     },
     "execution_count": 11,
     "metadata": {},
     "output_type": "execute_result"
    }
   ],
   "source": [
    "df_alt_fueling_stations.head()"
   ]
  },
  {
   "cell_type": "code",
   "execution_count": 12,
   "id": "552f87f2-1b2c-495f-b0cd-c69d7b8b9913",
   "metadata": {},
   "outputs": [
    {
     "name": "stdout",
     "output_type": "stream",
     "text": [
      "  Fuel Type Code                    Station Name               Street Address  \\\n",
      "0           ELEC   Los Angeles Convention Center           1201 S Figueroa St   \n",
      "1           ELEC  California Air Resources Board             9530 Telstar Ave   \n",
      "2           ELEC          Scripps Green Hospital      10666 N Torrey Pines Rd   \n",
      "3           ELEC      San Diego Wild Animal Park  15500 San Pasqual Valley Rd   \n",
      "4           ELEC                   Galpin Motors            15421 Roscoe Blvd   \n",
      "\n",
      "          City State    ZIP Country Station Phone Status Code  \\\n",
      "0  Los Angeles    CA  90015      US  213-741-1151           E   \n",
      "1     El Monte    CA  91731      US  626-575-6800           E   \n",
      "2     La Jolla    CA  92037      US  858-554-9100           E   \n",
      "3    Escondido    CA  92027      US  760-747-8702           E   \n",
      "4    Sepulveda    CA  91343      US  800-256-6219           E   \n",
      "\n",
      "  GroupsWith Access Code EV Level2 EVSE Num     EV Network GeoCode Status  \\\n",
      "0                                        12  Non-Networked            GPS   \n",
      "1                                         3  Non-Networked            GPS   \n",
      "2                                         1  Non-Networked            GPS   \n",
      "3                                         2  Non-Networked          200-9   \n",
      "4                                         2  Non-Networked          200-9   \n",
      "\n",
      "    Latitude   Longitude Access Code   Facility Type EV Connector Types  \n",
      "0  34.040539 -118.271387      public  PARKING_GARAGE              J1772  \n",
      "1  34.068720 -118.064000      public       STATE_GOV              J1772  \n",
      "2  32.899470 -117.243000      public        HOSPITAL              J1772  \n",
      "3  33.098589 -117.004433      public         PAY_LOT              J1772  \n",
      "4  34.221665 -118.468371      public      CAR_DEALER              J1772  \n"
     ]
    }
   ],
   "source": [
    "# Clean us_alt_fuel_stations Collection\n",
    "cleaned_us_alt_fuel_stations = []\n",
    "for doc in db['us_alt_fuel_stations'].find():\n",
    "    cleaned_doc = {\n",
    "        'Fuel Type Code': doc.get('Fuel Type Code', ''),\n",
    "        'Station Name': doc.get('Station Name', ''),\n",
    "        'Street Address': doc.get('Street Address', ''),\n",
    "        'City': doc.get('City', ''),\n",
    "        'State': doc.get('State', ''),\n",
    "        'ZIP': doc.get('ZIP', ''),\n",
    "        'Country': doc.get('Country', ''),\n",
    "        'Station Phone': doc.get('Station Phone', ''),\n",
    "        'Status Code': doc.get('Status Code', ''),\n",
    "        'GroupsWith Access Code': doc.get('GroupsWith Access Code', ''),\n",
    "        'EV Level2 EVSE Num': doc.get('EV Level2 EVSE Num', ''),\n",
    "        'EV Network': doc.get('EV Network', ''),\n",
    "        'GeoCode Status': doc.get('Geocode Status', ''),\n",
    "        'Latitude': doc.get('Latitude', ''),\n",
    "        'Longitude': doc.get('Longitude', ''),\n",
    "        'Access Code': doc.get('Access Code', ''),\n",
    "        'Facility Type': doc.get('Facility Type', ''),\n",
    "        'EV Connector Types': doc.get('EV Connector Types', '')\n",
    "    }\n",
    "    cleaned_us_alt_fuel_stations.append(cleaned_doc)\n",
    "\n",
    "# Create DataFrame from cleaned data\n",
    "df_us_alt_fuel_stations = pd.DataFrame(cleaned_us_alt_fuel_stations)\n",
    "\n",
    "# Display the DataFrame\n",
    "print(df_us_alt_fuel_stations.head())\n"
   ]
  },
  {
   "cell_type": "code",
   "execution_count": 13,
   "id": "6279d8a5-506a-4b62-9881-1e800f89b99d",
   "metadata": {},
   "outputs": [],
   "source": [
    "df_us_alt_fuel_stations = df_us_alt_fuel_stations[df_us_alt_fuel_stations['Country'] != 'CA']"
   ]
  },
  {
   "cell_type": "code",
   "execution_count": 14,
   "id": "6549af6b-3579-41c7-aff8-ed5f7e1234ad",
   "metadata": {},
   "outputs": [
    {
     "name": "stdout",
     "output_type": "stream",
     "text": [
      "  Fuel Type                           Title                      Address  \\\n",
      "0      ELEC   Los Angeles Convention Center           1201 S Figueroa St   \n",
      "1      ELEC  California Air Resources Board             9530 Telstar Ave   \n",
      "2      ELEC          Scripps Green Hospital      10666 N Torrey Pines Rd   \n",
      "3      ELEC      San Diego Wild Animal Park  15500 San Pasqual Valley Rd   \n",
      "4      ELEC                   Galpin Motors            15421 Roscoe Blvd   \n",
      "\n",
      "          City State ZIP Code Country  Phone Number StatusType_Title  \\\n",
      "0  Los Angeles    CA    90015      US  213-741-1151                E   \n",
      "1     El Monte    CA    91731      US  626-575-6800                E   \n",
      "2     La Jolla    CA    92037      US  858-554-9100                E   \n",
      "3    Escondido    CA    92027      US  760-747-8702                E   \n",
      "4    Sepulveda    CA    91343      US  800-256-6219                E   \n",
      "\n",
      "  GroupsWith Access Code Charging Levels  OperatorTitle Geocode Status  \\\n",
      "0                                     12  Non-Networked            GPS   \n",
      "1                                      3  Non-Networked            GPS   \n",
      "2                                      1  Non-Networked            GPS   \n",
      "3                                      2  Non-Networked          200-9   \n",
      "4                                      2  Non-Networked          200-9   \n",
      "\n",
      "    Latitude   Longitude Access Code   Facility Type Connector Type  \n",
      "0  34.040539 -118.271387      public  PARKING_GARAGE          J1772  \n",
      "1  34.068720 -118.064000      public       STATE_GOV          J1772  \n",
      "2  32.899470 -117.243000      public        HOSPITAL          J1772  \n",
      "3  33.098589 -117.004433      public         PAY_LOT          J1772  \n",
      "4  34.221665 -118.468371      public      CAR_DEALER          J1772  \n"
     ]
    }
   ],
   "source": [
    "# Define column name mapping dictionary\n",
    "column_mapping = {\n",
    "    'Fuel Type Code': 'Fuel Type',\n",
    "    'Station Name': 'Title',\n",
    "    'Street Address': 'Address',\n",
    "    'City': 'City',\n",
    "    'State': 'State',\n",
    "    'ZIP': 'ZIP Code',\n",
    "    'Station Phone': 'Phone Number',  # Assuming Station Phone is the contact phone\n",
    "    'Status Code': 'StatusType_Title',\n",
    "    'EV Level2 EVSE Num': 'Charging Levels',\n",
    "    'EV Network': 'OperatorTitle',\n",
    "    'GeoCode Status': 'Geocode Status',\n",
    "    'Latitude': 'Latitude',\n",
    "    'Longitude': 'Longitude',\n",
    "    'Access Code': 'Access Code',\n",
    "    'Facility Type': 'Facility Type',\n",
    "    'EV Connector Types': 'Connector Type'\n",
    "}\n",
    "\n",
    "# Rename columns in df_us_alt_fuel_stations DataFrame\n",
    "df_us_alt_fuel_stations.rename(columns=column_mapping, inplace=True)\n",
    "\n",
    "# Display the DataFrame with renamed columns\n",
    "print(df_us_alt_fuel_stations.head())\n"
   ]
  },
  {
   "cell_type": "code",
   "execution_count": 15,
   "id": "b98ea9dc-abeb-4f0e-8be6-51fa523f20c7",
   "metadata": {},
   "outputs": [
    {
     "name": "stdout",
     "output_type": "stream",
     "text": [
      "Longitude    float64\n",
      "Latitude     float64\n",
      "ZIP Code     float64\n",
      "dtype: object\n",
      "\n",
      "df_us_alt_fuel_stations:\n",
      "Longitude    float64\n",
      "Latitude     float64\n",
      "ZIP Code     float64\n",
      "dtype: object\n"
     ]
    }
   ],
   "source": [
    "\n",
    "df_alt_fueling_stations['Longitude'] = pd.to_numeric(df_alt_fueling_stations['Longitude'], errors='coerce')\n",
    "df_alt_fueling_stations['Latitude'] = pd.to_numeric(df_alt_fueling_stations['Latitude'], errors='coerce')\n",
    "\n",
    "df_us_alt_fuel_stations['Longitude'] = pd.to_numeric(df_us_alt_fuel_stations['Longitude'], errors='coerce')\n",
    "df_us_alt_fuel_stations['Latitude'] = pd.to_numeric(df_us_alt_fuel_stations['Latitude'], errors='coerce')\n",
    "\n",
    "# Convert 'ZIP Code' column to integer data type in all DataFrames\n",
    "df_alt_fueling_stations['ZIP Code'] = pd.to_numeric(df_alt_fueling_stations['ZIP Code'], errors='coerce', downcast='integer')\n",
    "df_us_alt_fuel_stations['ZIP Code'] = pd.to_numeric(df_us_alt_fuel_stations['ZIP Code'], errors='coerce', downcast='integer')\n",
    "\n",
    "# Display data types of 'Longitude', 'Latitude', and 'ZIP Code' columns in all DataFrames\n",
    "\n",
    "print(df_alt_fueling_stations[['Longitude', 'Latitude', 'ZIP Code']].dtypes)\n",
    "print(\"\\ndf_us_alt_fuel_stations:\")\n",
    "print(df_us_alt_fuel_stations[['Longitude', 'Latitude', 'ZIP Code']].dtypes)\n",
    "\n"
   ]
  },
  {
   "cell_type": "code",
   "execution_count": 16,
   "id": "fdbe5918-c7a1-49e6-a277-2e0949cb051d",
   "metadata": {},
   "outputs": [],
   "source": [
    "# Convert columns to string type in df_alt_fueling_stations\n",
    "df_alt_fueling_stations = df_alt_fueling_stations.astype({col: 'string' for col in df_alt_fueling_stations.columns if col not in ['Longitude', 'Latitude']})\n",
    "\n",
    "# Convert columns to string type in df_us_alt_fuel_stations\n",
    "df_us_alt_fuel_stations = df_us_alt_fuel_stations.astype({col: 'string' for col in df_us_alt_fuel_stations.columns if col not in ['Longitude', 'Latitude']})\n"
   ]
  },
  {
   "cell_type": "code",
   "execution_count": 17,
   "id": "a6ae8725-8f8f-4c60-9d6e-4833bf907d65",
   "metadata": {},
   "outputs": [
    {
     "name": "stdout",
     "output_type": "stream",
     "text": [
      "Column: Fuel Type, Data Type: string\n",
      "Column: Title, Data Type: string\n",
      "Column: Address, Data Type: string\n",
      "Column: City, Data Type: string\n",
      "Column: State, Data Type: string\n",
      "Column: ZIP Code, Data Type: string\n",
      "Column: Country, Data Type: string\n",
      "Column: Phone Number, Data Type: string\n",
      "Column: StatusType_Title, Data Type: string\n",
      "Column: GroupsWith Access Code, Data Type: string\n",
      "Column: Charging Levels, Data Type: string\n",
      "Column: OperatorTitle, Data Type: string\n",
      "Column: Geocode Status, Data Type: string\n",
      "Column: Latitude, Data Type: float64\n",
      "Column: Longitude, Data Type: float64\n",
      "Column: Access Code, Data Type: string\n",
      "Column: Facility Type, Data Type: string\n",
      "Column: Connector Type, Data Type: string\n"
     ]
    }
   ],
   "source": [
    "# Print all column names and their data types in the final_merged_df DataFrame\n",
    "for column, dtype in df_us_alt_fuel_stations.dtypes.items():\n",
    "    print(f\"Column: {column}, Data Type: {dtype}\")"
   ]
  },
  {
   "cell_type": "code",
   "execution_count": 18,
   "id": "d2104280-1eff-493b-a2e4-4cf76c789e98",
   "metadata": {},
   "outputs": [
    {
     "name": "stdout",
     "output_type": "stream",
     "text": [
      "Column: Title, Data Type: string\n",
      "Column: Geocode Status, Data Type: string\n",
      "Column: City, Data Type: string\n",
      "Column: State, Data Type: string\n",
      "Column: Address, Data Type: string\n",
      "Column: ZIP Code, Data Type: string\n",
      "Column: Access Code, Data Type: string\n",
      "Column: Longitude, Data Type: float64\n",
      "Column: Latitude, Data Type: float64\n"
     ]
    }
   ],
   "source": [
    "\n",
    "# Print all column names and their data types in the final_merged_df DataFrame\n",
    "for column, dtype in df_alt_fueling_stations.dtypes.items():\n",
    "    print(f\"Column: {column}, Data Type: {dtype}\")"
   ]
  },
  {
   "cell_type": "code",
   "execution_count": 19,
   "id": "c6e524d4-bf83-421d-801d-ab6da41b92c3",
   "metadata": {},
   "outputs": [
    {
     "name": "stdout",
     "output_type": "stream",
     "text": [
      "                            Title         City State  \\\n",
      "0   Los Angeles Convention Center  Los Angeles    CA   \n",
      "1  California Air Resources Board     El Monte    CA   \n",
      "2          Scripps Green Hospital     La Jolla    CA   \n",
      "3          Scripps Green Hospital     La Jolla    CA   \n",
      "4      San Diego Wild Animal Park    Escondido    CA   \n",
      "\n",
      "                       Address ZIP Code   Longitude   Latitude Country  \\\n",
      "0           1201 S Figueroa St  90015.0 -118.271387  34.040539      US   \n",
      "1             9530 Telstar Ave  91731.0 -118.064000  34.068720      US   \n",
      "2      10666 N Torrey Pines Rd  92037.0 -117.243000  32.899470      US   \n",
      "3      10666 N Torrey Pines Rd  92037.0 -117.243000  32.899470      US   \n",
      "4  15500 San Pasqual Valley Rd  92027.0 -117.004433  33.098589      US   \n",
      "\n",
      "   Phone Number StatusType_Title GroupsWith Access Code Charging Levels  \\\n",
      "0  213-741-1151                E                                     12   \n",
      "1  626-575-6800                E                                      3   \n",
      "2  858-554-9100                E                                      1   \n",
      "3  858-554-9100                E                                      1   \n",
      "4  760-747-8702                E                                      2   \n",
      "\n",
      "   OperatorTitle Access Code_y   Facility Type Connector Type  \n",
      "0  Non-Networked        public  PARKING_GARAGE          J1772  \n",
      "1  Non-Networked        public       STATE_GOV          J1772  \n",
      "2  Non-Networked        public        HOSPITAL          J1772  \n",
      "3  Non-Networked        public        HOSPITAL          J1772  \n",
      "4  Non-Networked        public         PAY_LOT          J1772  \n"
     ]
    }
   ],
   "source": [
    "\n",
    "# Convert city names to lowercase and capitalize the first letter of each word\n",
    "df_alt_fueling_stations['City'] = df_alt_fueling_stations['City'].str.lower().str.title()\n",
    "df_us_alt_fuel_stations['City'] = df_us_alt_fuel_stations['City'].str.lower().str.title()\n",
    "\n",
    "#['Access Code'] = df_alt_fueling_stations['Access Code'].str.lower().str.title()\n",
    "#df_us_alt_fuel_stations['Access Code'] = df_us_alt_fuel_stations['Access Code'].str.lower().str.title()\n",
    "\n",
    "# Merge DataFrames based on longitude and latitude\n",
    "final_merged_df = pd.merge(df_alt_fueling_stations, df_us_alt_fuel_stations, on=['Longitude', 'Latitude', 'ZIP Code','City','State','Address','Title'], how='right')\n",
    "\n",
    "final_merged_df.drop(['Geocode Status_x','Geocode Status_y', 'Fuel Type', 'Access Code_x'], axis=1, inplace=True)\n",
    "\n",
    "# Display the merged DataFrame\n",
    "print(final_merged_df.head())\n"
   ]
  },
  {
   "cell_type": "code",
   "execution_count": 20,
   "id": "53e93329-23d8-4d45-9825-5d0d77ea0940",
   "metadata": {},
   "outputs": [
    {
     "data": {
      "text/html": [
       "<div>\n",
       "<style scoped>\n",
       "    .dataframe tbody tr th:only-of-type {\n",
       "        vertical-align: middle;\n",
       "    }\n",
       "\n",
       "    .dataframe tbody tr th {\n",
       "        vertical-align: top;\n",
       "    }\n",
       "\n",
       "    .dataframe thead th {\n",
       "        text-align: right;\n",
       "    }\n",
       "</style>\n",
       "<table border=\"1\" class=\"dataframe\">\n",
       "  <thead>\n",
       "    <tr style=\"text-align: right;\">\n",
       "      <th></th>\n",
       "      <th>Title</th>\n",
       "      <th>City</th>\n",
       "      <th>State</th>\n",
       "      <th>Address</th>\n",
       "      <th>ZIP Code</th>\n",
       "      <th>Longitude</th>\n",
       "      <th>Latitude</th>\n",
       "      <th>Country</th>\n",
       "      <th>Phone Number</th>\n",
       "      <th>StatusType_Title</th>\n",
       "      <th>GroupsWith Access Code</th>\n",
       "      <th>Charging Levels</th>\n",
       "      <th>OperatorTitle</th>\n",
       "      <th>Access Code_y</th>\n",
       "      <th>Facility Type</th>\n",
       "      <th>Connector Type</th>\n",
       "    </tr>\n",
       "  </thead>\n",
       "  <tbody>\n",
       "    <tr>\n",
       "      <th>0</th>\n",
       "      <td>Los Angeles Convention Center</td>\n",
       "      <td>Los Angeles</td>\n",
       "      <td>CA</td>\n",
       "      <td>1201 S Figueroa St</td>\n",
       "      <td>90015.0</td>\n",
       "      <td>-118.271387</td>\n",
       "      <td>34.040539</td>\n",
       "      <td>US</td>\n",
       "      <td>213-741-1151</td>\n",
       "      <td>E</td>\n",
       "      <td></td>\n",
       "      <td>12</td>\n",
       "      <td>Non-Networked</td>\n",
       "      <td>public</td>\n",
       "      <td>PARKING_GARAGE</td>\n",
       "      <td>J1772</td>\n",
       "    </tr>\n",
       "    <tr>\n",
       "      <th>1</th>\n",
       "      <td>California Air Resources Board</td>\n",
       "      <td>El Monte</td>\n",
       "      <td>CA</td>\n",
       "      <td>9530 Telstar Ave</td>\n",
       "      <td>91731.0</td>\n",
       "      <td>-118.064000</td>\n",
       "      <td>34.068720</td>\n",
       "      <td>US</td>\n",
       "      <td>626-575-6800</td>\n",
       "      <td>E</td>\n",
       "      <td></td>\n",
       "      <td>3</td>\n",
       "      <td>Non-Networked</td>\n",
       "      <td>public</td>\n",
       "      <td>STATE_GOV</td>\n",
       "      <td>J1772</td>\n",
       "    </tr>\n",
       "    <tr>\n",
       "      <th>2</th>\n",
       "      <td>Scripps Green Hospital</td>\n",
       "      <td>La Jolla</td>\n",
       "      <td>CA</td>\n",
       "      <td>10666 N Torrey Pines Rd</td>\n",
       "      <td>92037.0</td>\n",
       "      <td>-117.243000</td>\n",
       "      <td>32.899470</td>\n",
       "      <td>US</td>\n",
       "      <td>858-554-9100</td>\n",
       "      <td>E</td>\n",
       "      <td></td>\n",
       "      <td>1</td>\n",
       "      <td>Non-Networked</td>\n",
       "      <td>public</td>\n",
       "      <td>HOSPITAL</td>\n",
       "      <td>J1772</td>\n",
       "    </tr>\n",
       "    <tr>\n",
       "      <th>3</th>\n",
       "      <td>Scripps Green Hospital</td>\n",
       "      <td>La Jolla</td>\n",
       "      <td>CA</td>\n",
       "      <td>10666 N Torrey Pines Rd</td>\n",
       "      <td>92037.0</td>\n",
       "      <td>-117.243000</td>\n",
       "      <td>32.899470</td>\n",
       "      <td>US</td>\n",
       "      <td>858-554-9100</td>\n",
       "      <td>E</td>\n",
       "      <td></td>\n",
       "      <td>1</td>\n",
       "      <td>Non-Networked</td>\n",
       "      <td>public</td>\n",
       "      <td>HOSPITAL</td>\n",
       "      <td>J1772</td>\n",
       "    </tr>\n",
       "    <tr>\n",
       "      <th>4</th>\n",
       "      <td>San Diego Wild Animal Park</td>\n",
       "      <td>Escondido</td>\n",
       "      <td>CA</td>\n",
       "      <td>15500 San Pasqual Valley Rd</td>\n",
       "      <td>92027.0</td>\n",
       "      <td>-117.004433</td>\n",
       "      <td>33.098589</td>\n",
       "      <td>US</td>\n",
       "      <td>760-747-8702</td>\n",
       "      <td>E</td>\n",
       "      <td></td>\n",
       "      <td>2</td>\n",
       "      <td>Non-Networked</td>\n",
       "      <td>public</td>\n",
       "      <td>PAY_LOT</td>\n",
       "      <td>J1772</td>\n",
       "    </tr>\n",
       "  </tbody>\n",
       "</table>\n",
       "</div>"
      ],
      "text/plain": [
       "                            Title         City State  \\\n",
       "0   Los Angeles Convention Center  Los Angeles    CA   \n",
       "1  California Air Resources Board     El Monte    CA   \n",
       "2          Scripps Green Hospital     La Jolla    CA   \n",
       "3          Scripps Green Hospital     La Jolla    CA   \n",
       "4      San Diego Wild Animal Park    Escondido    CA   \n",
       "\n",
       "                       Address ZIP Code   Longitude   Latitude Country  \\\n",
       "0           1201 S Figueroa St  90015.0 -118.271387  34.040539      US   \n",
       "1             9530 Telstar Ave  91731.0 -118.064000  34.068720      US   \n",
       "2      10666 N Torrey Pines Rd  92037.0 -117.243000  32.899470      US   \n",
       "3      10666 N Torrey Pines Rd  92037.0 -117.243000  32.899470      US   \n",
       "4  15500 San Pasqual Valley Rd  92027.0 -117.004433  33.098589      US   \n",
       "\n",
       "   Phone Number StatusType_Title GroupsWith Access Code Charging Levels  \\\n",
       "0  213-741-1151                E                                     12   \n",
       "1  626-575-6800                E                                      3   \n",
       "2  858-554-9100                E                                      1   \n",
       "3  858-554-9100                E                                      1   \n",
       "4  760-747-8702                E                                      2   \n",
       "\n",
       "   OperatorTitle Access Code_y   Facility Type Connector Type  \n",
       "0  Non-Networked        public  PARKING_GARAGE          J1772  \n",
       "1  Non-Networked        public       STATE_GOV          J1772  \n",
       "2  Non-Networked        public        HOSPITAL          J1772  \n",
       "3  Non-Networked        public        HOSPITAL          J1772  \n",
       "4  Non-Networked        public         PAY_LOT          J1772  "
      ]
     },
     "execution_count": 20,
     "metadata": {},
     "output_type": "execute_result"
    }
   ],
   "source": [
    "final_merged_df.head()"
   ]
  },
  {
   "cell_type": "code",
   "execution_count": 21,
   "id": "5470fee9-0c09-4c50-b349-cbb4cdda97fe",
   "metadata": {},
   "outputs": [
    {
     "name": "stdout",
     "output_type": "stream",
     "text": [
      "Column: Title, Data Type: string\n",
      "Column: City, Data Type: string\n",
      "Column: State, Data Type: string\n",
      "Column: Address, Data Type: string\n",
      "Column: ZIP Code, Data Type: string\n",
      "Column: Longitude, Data Type: float64\n",
      "Column: Latitude, Data Type: float64\n",
      "Column: Country, Data Type: string\n",
      "Column: Phone Number, Data Type: string\n",
      "Column: StatusType_Title, Data Type: string\n",
      "Column: GroupsWith Access Code, Data Type: string\n",
      "Column: Charging Levels, Data Type: string\n",
      "Column: OperatorTitle, Data Type: string\n",
      "Column: Access Code, Data Type: string\n",
      "Column: Facility Type, Data Type: string\n",
      "Column: Connector Type, Data Type: string\n"
     ]
    }
   ],
   "source": [
    "final_merged_df.rename(columns={'Access Code_y': 'Access Code', 'Phone Number': 'Phone_Number'}, inplace=True)\n",
    "\n",
    "# Print all column names and their data types in the merged DataFrame\n",
    "for column, dtype in final_merged_df.dtypes.items():\n",
    "    print(f\"Column: {column}, Data Type: {dtype}\")\n"
   ]
  },
  {
   "cell_type": "code",
   "execution_count": 22,
   "id": "39954da2-6efe-4476-8d74-962d113a616a",
   "metadata": {},
   "outputs": [
    {
     "data": {
      "text/plain": [
       "Index(['Title', 'City', 'State', 'Address', 'ZIP Code', 'Longitude',\n",
       "       'Latitude', 'Country', 'Phone Number', 'StatusType_Title',\n",
       "       'GroupsWith Access Code', 'Charging Levels', 'OperatorTitle',\n",
       "       'Access Code', 'Facility Type', 'Connector Type'],\n",
       "      dtype='object')"
      ]
     },
     "execution_count": 22,
     "metadata": {},
     "output_type": "execute_result"
    }
   ],
   "source": [
    "final_merged_df.columns"
   ]
  },
  {
   "cell_type": "code",
   "execution_count": 23,
   "id": "390e4195-4119-49fc-8ae4-68628be6df76",
   "metadata": {},
   "outputs": [],
   "source": [
    "\n",
    "# Get the current directory of the notebook\n",
    "current_dir = os.getcwd()\n",
    "\n",
    "# Define the file path relative to the resource folder\n",
    "file_path = os.path.join(current_dir, 'resource', 'final_merged_data.json')"
   ]
  },
  {
   "cell_type": "code",
   "execution_count": 24,
   "id": "c3b460c5-0ccc-41fb-a274-81015d8cc493",
   "metadata": {},
   "outputs": [
    {
     "name": "stdout",
     "output_type": "stream",
     "text": [
      "JSON data has been exported to /Users/albertoalvarado/Documents/utsa/UTSA.Lessons/UTSA.Lessons/Project3/resource/final_merged_data.json\n"
     ]
    }
   ],
   "source": [
    "# Convert DataFrame to JSON format\n",
    "json_data = final_merged_df.to_json(orient='records', indent=4)\n",
    "\n",
    "# Write JSON data to a file\n",
    "with open(file_path, 'w') as file:\n",
    "    file.write(json_data)\n",
    "\n",
    "print(f\"JSON data has been exported to {file_path}\")\n"
   ]
  },
  {
   "cell_type": "code",
   "execution_count": 25,
   "id": "38bf0baa-40cb-4e26-ade3-033fddbd0a71",
   "metadata": {},
   "outputs": [
    {
     "data": {
      "text/plain": [
       "Title             82869\n",
       "Geocode Status    82869\n",
       "City              82869\n",
       "State             82869\n",
       "Address           82869\n",
       "ZIP Code          82822\n",
       "Access Code       82869\n",
       "Longitude         82869\n",
       "Latitude          82869\n",
       "dtype: int64"
      ]
     },
     "execution_count": 25,
     "metadata": {},
     "output_type": "execute_result"
    }
   ],
   "source": [
    "df_alt_fueling_stations.count()"
   ]
  },
  {
   "cell_type": "code",
   "execution_count": 26,
   "id": "e1de9dec-dc0c-44ce-b39a-034e70d818bd",
   "metadata": {},
   "outputs": [
    {
     "data": {
      "text/plain": [
       "Fuel Type                 42878\n",
       "Title                     42878\n",
       "Address                   42878\n",
       "City                      42878\n",
       "State                     42878\n",
       "ZIP Code                  42864\n",
       "Country                   42878\n",
       "Phone Number              42878\n",
       "StatusType_Title          42878\n",
       "GroupsWith Access Code    42878\n",
       "Charging Levels           42878\n",
       "OperatorTitle             42878\n",
       "Geocode Status            42878\n",
       "Latitude                  42878\n",
       "Longitude                 42878\n",
       "Access Code               42878\n",
       "Facility Type             42878\n",
       "Connector Type            42878\n",
       "dtype: int64"
      ]
     },
     "execution_count": 26,
     "metadata": {},
     "output_type": "execute_result"
    }
   ],
   "source": [
    "df_us_alt_fuel_stations.count()"
   ]
  },
  {
   "cell_type": "code",
   "execution_count": 27,
   "id": "7b789d4c-8ccd-4117-8b29-55e0d09ff428",
   "metadata": {},
   "outputs": [
    {
     "name": "stdout",
     "output_type": "stream",
     "text": [
      "Title                     Los Angeles Convention Center\n",
      "City                                        Los Angeles\n",
      "State                                                CA\n",
      "Address                              1201 S Figueroa St\n",
      "ZIP Code                                        90015.0\n",
      "Longitude                                   -118.271387\n",
      "Latitude                                      34.040539\n",
      "Country                                              US\n",
      "Phone Number                               213-741-1151\n",
      "StatusType_Title                                      E\n",
      "GroupsWith Access Code                                 \n",
      "Charging Levels                                      12\n",
      "OperatorTitle                             Non-Networked\n",
      "Access Code                                      public\n",
      "Facility Type                            PARKING_GARAGE\n",
      "Connector Type                                    J1772\n",
      "Name: 0, dtype: object\n"
     ]
    }
   ],
   "source": [
    "# Select one row by index\n",
    "row = final_merged_df.iloc[0]\n",
    "\n",
    "# Display the values of the selected row\n",
    "print(row)\n"
   ]
  },
  {
   "cell_type": "code",
   "execution_count": 28,
   "id": "856d3509-424c-4879-8cd9-c97c7c6d932b",
   "metadata": {},
   "outputs": [
    {
     "data": {
      "text/plain": [
       "Title                     43493\n",
       "City                      43493\n",
       "State                     43493\n",
       "Address                   43493\n",
       "ZIP Code                  43479\n",
       "Longitude                 43493\n",
       "Latitude                  43493\n",
       "Country                   43493\n",
       "Phone Number              43493\n",
       "StatusType_Title          43493\n",
       "GroupsWith Access Code    43493\n",
       "Charging Levels           43493\n",
       "OperatorTitle             43493\n",
       "Access Code               43493\n",
       "Facility Type             43493\n",
       "Connector Type            43493\n",
       "dtype: int64"
      ]
     },
     "execution_count": 28,
     "metadata": {},
     "output_type": "execute_result"
    }
   ],
   "source": [
    "final_merged_df.count()"
   ]
  },
  {
   "cell_type": "code",
   "execution_count": 29,
   "id": "4742089d-5f9b-4f19-9744-afcef1f5dcfd",
   "metadata": {},
   "outputs": [
    {
     "name": "stdout",
     "output_type": "stream",
     "text": [
      "                              Title         City State  \\\n",
      "275                   Ancira Nissan  San Antonio    TX   \n",
      "276                   Ancira Nissan  San Antonio    TX   \n",
      "277                     Gunn Nissan  San Antonio    TX   \n",
      "278                     Gunn Nissan  San Antonio    TX   \n",
      "279              Ingram Park Nissan  San Antonio    TX   \n",
      "...                             ...          ...   ...   \n",
      "40442      CPSE-SATX E HOUSTON ST 1  San Antonio    TX   \n",
      "40814  Overlook Exchange Apartments  San Antonio    TX   \n",
      "42560         The Towers La Cantera  San Antonio    TX   \n",
      "42634        The Standard at Legacy  San Antonio    TX   \n",
      "43048      TREBLE CREEK ROGERSRANCH  San Antonio    TX   \n",
      "\n",
      "                        Address ZIP Code  Longitude   Latitude Country  \\\n",
      "275               10835 IH-10 W  78230.0 -98.575440  29.543147      US   \n",
      "276               10835 IH-10 W  78230.0 -98.575440  29.543147      US   \n",
      "277             750 NE Loop 410  78209.0 -98.467365  29.517253      US   \n",
      "278             750 NE Loop 410  78209.0 -98.467365  29.517253      US   \n",
      "279            6990 NW Loop 410  78238.0 -98.625324  29.457047      US   \n",
      "...                         ...      ...        ...        ...     ...   \n",
      "40442   240 East Houston Street  78205.0 -98.489826  29.426234      US   \n",
      "40814       6455 De Zavala Road  78249.0 -98.615071  29.560592      US   \n",
      "42560  16735 La Cantera Parkway  78256.0 -98.612653  29.607412      US   \n",
      "42634      1938 E Sonterra Blvd  78259.0 -98.463566  29.610827      US   \n",
      "43048         2733 Treble Creek  78258.0 -98.537543  29.602948      US   \n",
      "\n",
      "       Phone Number StatusType_Title GroupsWith Access Code Charging Levels  \\\n",
      "275    210-558-5001                E                                      1   \n",
      "276    210-558-5001                E                                      1   \n",
      "277    888-693-8380                E                                      1   \n",
      "278    888-693-8380                E                                      1   \n",
      "279    210-681-6300                E                                      1   \n",
      "...             ...              ...                    ...             ...   \n",
      "40442  888-758-4389                E                                      1   \n",
      "40814  888-998-2546                E                                      1   \n",
      "42560  800-663-5633                E                                      2   \n",
      "42634  866-816-7584                E                                      4   \n",
      "43048  888-758-4389                E                                      2   \n",
      "\n",
      "             OperatorTitle Access Code        Facility Type Connector Type  \n",
      "275          Non-Networked      public           CAR_DEALER          J1772  \n",
      "276          Non-Networked      public           CAR_DEALER          J1772  \n",
      "277          Non-Networked      public           CAR_DEALER          J1772  \n",
      "278          Non-Networked      public           CAR_DEALER          J1772  \n",
      "279          Non-Networked      public           CAR_DEALER          J1772  \n",
      "...                    ...         ...                  ...            ...  \n",
      "40442  ChargePoint Network      public                               J1772  \n",
      "40814        Blink Network      public                               J1772  \n",
      "42560   SemaCharge Network      public                               J1772  \n",
      "42634           EV Connect      public  MULTI_UNIT_DWELLING          J1772  \n",
      "43048  ChargePoint Network      public                               J1772  \n",
      "\n",
      "[156 rows x 16 columns]\n"
     ]
    }
   ],
   "source": [
    "# Search for rows where the city contains 'San Antonio'\n",
    "san_antonio_data = final_merged_df[final_merged_df['City'].str.contains('San Antonio', case=False)]\n",
    "\n",
    "# Display the resulting data\n",
    "print(san_antonio_data)\n"
   ]
  },
  {
   "cell_type": "code",
   "execution_count": null,
   "id": "690d1cb9-3c51-4a78-9bb4-89360ad61eda",
   "metadata": {},
   "outputs": [],
   "source": []
  }
 ],
 "metadata": {
  "kernelspec": {
   "display_name": "dev",
   "language": "python",
   "name": "dev"
  },
  "language_info": {
   "codemirror_mode": {
    "name": "ipython",
    "version": 3
   },
   "file_extension": ".py",
   "mimetype": "text/x-python",
   "name": "python",
   "nbconvert_exporter": "python",
   "pygments_lexer": "ipython3",
   "version": "3.10.13"
  }
 },
 "nbformat": 4,
 "nbformat_minor": 5
}
