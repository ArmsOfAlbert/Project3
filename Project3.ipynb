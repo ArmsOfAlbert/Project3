{
 "cells": [
  {
   "cell_type": "code",
   "execution_count": 1,
   "id": "7864420e-0f1a-451f-a417-e083a50f083e",
   "metadata": {},
   "outputs": [],
   "source": [
    "from pymongo import MongoClient\n",
    "import pandas as pd\n",
    "from pprint import pprint"
   ]
  },
  {
   "cell_type": "code",
   "execution_count": 2,
   "id": "3bc7c6c0-934f-4907-a21d-87892b3f77a7",
   "metadata": {},
   "outputs": [],
   "source": [
    "# Create an instance of MongoClient\n",
    "mongo = MongoClient(port=27017)"
   ]
  },
  {
   "cell_type": "code",
   "execution_count": 3,
   "id": "29a30a58-4f35-4655-9d91-52f1cb30386c",
   "metadata": {},
   "outputs": [],
   "source": [
    "# assign the uk_food database to a variable name\n",
    "db = mongo['openChargeMap']\n"
   ]
  },
  {
   "cell_type": "code",
   "execution_count": 4,
   "id": "41e8911d-d103-40bc-ab26-a94b77e67ce5",
   "metadata": {},
   "outputs": [
    {
     "name": "stdout",
     "output_type": "stream",
     "text": [
      "['POI_List']\n"
     ]
    }
   ],
   "source": [
    "# review the collections in our database\n",
    "print(db.list_collection_names())"
   ]
  },
  {
   "cell_type": "code",
   "execution_count": 5,
   "id": "1f9b2124-397c-48a5-8ddc-2f6918c1b304",
   "metadata": {},
   "outputs": [],
   "source": [
    "# assign the collection to a variable\n",
    "POI_List = db['POI_List']\n",
    "EV_MAke_Model = db['EV_MAke_Model']\n",
    "us_alt_fuel_stations = db['us_alt_fuel_stations']\n",
    "Alternative_Fueling_Stations = db['Alternative_Fueling_Stations']"
   ]
  },
  {
   "cell_type": "code",
   "execution_count": 6,
   "id": "ee65fcfd-dbe4-4b1b-8f5d-2ba65fbb2a02",
   "metadata": {},
   "outputs": [
    {
     "name": "stdout",
     "output_type": "stream",
     "text": [
      "Collection(Database(MongoClient(host=['localhost:27017'], document_class=dict, tz_aware=False, connect=True), 'openChargeMap'), 'POI_List')\n"
     ]
    }
   ],
   "source": [
    "pprint(POI_List)"
   ]
  },
  {
   "cell_type": "code",
   "execution_count": 13,
   "id": "2a57a385-f14c-4d41-99c2-1e992d0cff8f",
   "metadata": {},
   "outputs": [
    {
     "name": "stdout",
     "output_type": "stream",
     "text": [
      "100\n"
     ]
    }
   ],
   "source": [
    "# Use count_documents to display the number of documents in the result\n",
    "query = {'AddressInfo.Country.ISOCode':'US'}\n",
    "CT = POI_List.count_documents(query)\n",
    "print(CT)"
   ]
  },
  {
   "cell_type": "code",
   "execution_count": null,
   "id": "e7267623-b004-48bb-9612-b16a8e5bf888",
   "metadata": {},
   "outputs": [],
   "source": []
  },
  {
   "cell_type": "code",
   "execution_count": null,
   "id": "10c1dae7-b629-441b-baf0-85760aec124c",
   "metadata": {},
   "outputs": [],
   "source": []
  },
  {
   "cell_type": "code",
   "execution_count": null,
   "id": "ea3b69c0-b236-4eb1-a098-5734a671a94a",
   "metadata": {},
   "outputs": [],
   "source": []
  },
  {
   "cell_type": "code",
   "execution_count": null,
   "id": "798a5f63-1263-4319-9787-26d303143c26",
   "metadata": {},
   "outputs": [],
   "source": []
  },
  {
   "cell_type": "code",
   "execution_count": null,
   "id": "d04aa038-39a6-46c8-b01a-c3db59cdcc5a",
   "metadata": {},
   "outputs": [],
   "source": []
  },
  {
   "cell_type": "code",
   "execution_count": null,
   "id": "1568c015-7ca8-46ee-8315-2012fe199a26",
   "metadata": {},
   "outputs": [],
   "source": []
  }
 ],
 "metadata": {
  "kernelspec": {
   "display_name": "Python 3 (ipykernel)",
   "language": "python",
   "name": "python3"
  },
  "language_info": {
   "codemirror_mode": {
    "name": "ipython",
    "version": 3
   },
   "file_extension": ".py",
   "mimetype": "text/x-python",
   "name": "python",
   "nbconvert_exporter": "python",
   "pygments_lexer": "ipython3",
   "version": "3.11.5"
  }
 },
 "nbformat": 4,
 "nbformat_minor": 5
}
